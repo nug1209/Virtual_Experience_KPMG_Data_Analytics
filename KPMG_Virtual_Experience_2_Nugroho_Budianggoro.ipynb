{
  "nbformat": 4,
  "nbformat_minor": 0,
  "metadata": {
    "colab": {
      "name": "KPMG_Virtual_Experience_2_Nugroho_Budianggoro.ipynb",
      "provenance": [],
      "collapsed_sections": [],
      "authorship_tag": "ABX9TyPjr4HPQXRixt1/KVtg84H0",
      "include_colab_link": true
    },
    "kernelspec": {
      "name": "python3",
      "display_name": "Python 3"
    },
    "language_info": {
      "name": "python"
    }
  },
  "cells": [
    {
      "cell_type": "markdown",
      "metadata": {
        "id": "view-in-github",
        "colab_type": "text"
      },
      "source": [
        "<a href=\"https://colab.research.google.com/github/nugi1209/Virtual_Experience_KPMG_Data_Analytics/blob/master/KPMG_Virtual_Experience_2_Nugroho_Budianggoro.ipynb\" target=\"_parent\"><img src=\"https://colab.research.google.com/assets/colab-badge.svg\" alt=\"Open In Colab\"/></a>"
      ]
    },
    {
      "cell_type": "code",
      "metadata": {
        "id": "POCk-CsVIr0_"
      },
      "source": [
        "import pandas as pd\n",
        "import seaborn as sns\n",
        "import matplotlib\n",
        "import numpy as np"
      ],
      "execution_count": 536,
      "outputs": []
    },
    {
      "cell_type": "code",
      "metadata": {
        "id": "D5pn1xRWJ4iE"
      },
      "source": [
        "url = \"https://github.com/nugi1209/Virtual_Experience_KPMG_Data_Analytics/blob/master/KPMG_VI_New_raw_data_update_final.xlsx?raw=true\"\n",
        "xls = pd.ExcelFile(url)"
      ],
      "execution_count": 537,
      "outputs": []
    },
    {
      "cell_type": "code",
      "metadata": {
        "id": "czcIFwRNKwES",
        "colab": {
          "base_uri": "https://localhost:8080/"
        },
        "outputId": "cd707bb1-a639-4c2c-ab0b-583771f02ec2"
      },
      "source": [
        "xls.sheet_names"
      ],
      "execution_count": 538,
      "outputs": [
        {
          "output_type": "execute_result",
          "data": {
            "text/plain": [
              "['Title Sheet',\n",
              " 'Transactions',\n",
              " 'NewCustomerList',\n",
              " 'CustomerDemographic',\n",
              " 'CustomerAddress']"
            ]
          },
          "metadata": {},
          "execution_count": 538
        }
      ]
    },
    {
      "cell_type": "code",
      "metadata": {
        "colab": {
          "base_uri": "https://localhost:8080/"
        },
        "id": "pT09GVOlQ8Xv",
        "outputId": "d435568f-f895-493c-b792-301facc9917e"
      },
      "source": [
        "df_tr = pd.read_excel(url, sheet_name = 1, header = 1)\n",
        "df_tr.columns"
      ],
      "execution_count": 539,
      "outputs": [
        {
          "output_type": "execute_result",
          "data": {
            "text/plain": [
              "Index(['transaction_id', 'product_id', 'customer_id', 'transaction_date',\n",
              "       'online_order', 'order_status', 'brand', 'product_line',\n",
              "       'product_class', 'product_size', 'list_price', 'standard_cost',\n",
              "       'product_first_sold_date'],\n",
              "      dtype='object')"
            ]
          },
          "metadata": {},
          "execution_count": 539
        }
      ]
    },
    {
      "cell_type": "code",
      "metadata": {
        "colab": {
          "base_uri": "https://localhost:8080/"
        },
        "id": "eQ6Qw1k2MiH3",
        "outputId": "bf7535bf-4b0b-4f8d-a1d7-7c21d9677f53"
      },
      "source": [
        "df_nc = pd.read_excel(url, sheet_name = 2, header = 1)\n",
        "df_nc[\"new_customer\"] = True\n",
        "df_nc[\"customer_id\"] = 0\n",
        "df_nc.columns"
      ],
      "execution_count": 540,
      "outputs": [
        {
          "output_type": "execute_result",
          "data": {
            "text/plain": [
              "Index(['first_name', 'last_name', 'gender',\n",
              "       'past_3_years_bike_related_purchases', 'DOB', 'job_title',\n",
              "       'job_industry_category', 'wealth_segment', 'deceased_indicator',\n",
              "       'owns_car', 'tenure', 'address', 'postcode', 'state', 'country',\n",
              "       'property_valuation', 'Unnamed: 16', 'Unnamed: 17', 'Unnamed: 18',\n",
              "       'Unnamed: 19', 'Unnamed: 20', 'Rank', 'Value', 'new_customer',\n",
              "       'customer_id'],\n",
              "      dtype='object')"
            ]
          },
          "metadata": {},
          "execution_count": 540
        }
      ]
    },
    {
      "cell_type": "code",
      "metadata": {
        "colab": {
          "base_uri": "https://localhost:8080/",
          "height": 330
        },
        "id": "0nP_osQFNAG4",
        "outputId": "9330102b-a179-48e7-a6ea-e7f05a649287"
      },
      "source": [
        "df_cd = pd.read_excel(url, sheet_name = 3, header = 1)\n",
        "df_cd[\"new_customer\"] = False\n",
        "df_cd.columns\n",
        "df_cd.head()"
      ],
      "execution_count": 541,
      "outputs": [
        {
          "output_type": "execute_result",
          "data": {
            "text/html": [
              "<div>\n",
              "<style scoped>\n",
              "    .dataframe tbody tr th:only-of-type {\n",
              "        vertical-align: middle;\n",
              "    }\n",
              "\n",
              "    .dataframe tbody tr th {\n",
              "        vertical-align: top;\n",
              "    }\n",
              "\n",
              "    .dataframe thead th {\n",
              "        text-align: right;\n",
              "    }\n",
              "</style>\n",
              "<table border=\"1\" class=\"dataframe\">\n",
              "  <thead>\n",
              "    <tr style=\"text-align: right;\">\n",
              "      <th></th>\n",
              "      <th>customer_id</th>\n",
              "      <th>first_name</th>\n",
              "      <th>last_name</th>\n",
              "      <th>gender</th>\n",
              "      <th>past_3_years_bike_related_purchases</th>\n",
              "      <th>DOB</th>\n",
              "      <th>job_title</th>\n",
              "      <th>job_industry_category</th>\n",
              "      <th>wealth_segment</th>\n",
              "      <th>deceased_indicator</th>\n",
              "      <th>default</th>\n",
              "      <th>owns_car</th>\n",
              "      <th>tenure</th>\n",
              "      <th>new_customer</th>\n",
              "    </tr>\n",
              "  </thead>\n",
              "  <tbody>\n",
              "    <tr>\n",
              "      <th>0</th>\n",
              "      <td>1</td>\n",
              "      <td>Laraine</td>\n",
              "      <td>Medendorp</td>\n",
              "      <td>F</td>\n",
              "      <td>93</td>\n",
              "      <td>1953-10-12</td>\n",
              "      <td>Executive Secretary</td>\n",
              "      <td>Health</td>\n",
              "      <td>Mass Customer</td>\n",
              "      <td>N</td>\n",
              "      <td>\"'</td>\n",
              "      <td>Yes</td>\n",
              "      <td>11.0</td>\n",
              "      <td>False</td>\n",
              "    </tr>\n",
              "    <tr>\n",
              "      <th>1</th>\n",
              "      <td>2</td>\n",
              "      <td>Eli</td>\n",
              "      <td>Bockman</td>\n",
              "      <td>Male</td>\n",
              "      <td>81</td>\n",
              "      <td>1980-12-16</td>\n",
              "      <td>Administrative Officer</td>\n",
              "      <td>Financial Services</td>\n",
              "      <td>Mass Customer</td>\n",
              "      <td>N</td>\n",
              "      <td>&lt;script&gt;alert('hi')&lt;/script&gt;</td>\n",
              "      <td>Yes</td>\n",
              "      <td>16.0</td>\n",
              "      <td>False</td>\n",
              "    </tr>\n",
              "    <tr>\n",
              "      <th>2</th>\n",
              "      <td>3</td>\n",
              "      <td>Arlin</td>\n",
              "      <td>Dearle</td>\n",
              "      <td>Male</td>\n",
              "      <td>61</td>\n",
              "      <td>1954-01-20</td>\n",
              "      <td>Recruiting Manager</td>\n",
              "      <td>Property</td>\n",
              "      <td>Mass Customer</td>\n",
              "      <td>N</td>\n",
              "      <td>2018-02-01 00:00:00</td>\n",
              "      <td>Yes</td>\n",
              "      <td>15.0</td>\n",
              "      <td>False</td>\n",
              "    </tr>\n",
              "    <tr>\n",
              "      <th>3</th>\n",
              "      <td>4</td>\n",
              "      <td>Talbot</td>\n",
              "      <td>NaN</td>\n",
              "      <td>Male</td>\n",
              "      <td>33</td>\n",
              "      <td>1961-10-03</td>\n",
              "      <td>NaN</td>\n",
              "      <td>IT</td>\n",
              "      <td>Mass Customer</td>\n",
              "      <td>N</td>\n",
              "      <td>() { _; } &gt;_[$($())] { touch /tmp/blns.shellsh...</td>\n",
              "      <td>No</td>\n",
              "      <td>7.0</td>\n",
              "      <td>False</td>\n",
              "    </tr>\n",
              "    <tr>\n",
              "      <th>4</th>\n",
              "      <td>5</td>\n",
              "      <td>Sheila-kathryn</td>\n",
              "      <td>Calton</td>\n",
              "      <td>Female</td>\n",
              "      <td>56</td>\n",
              "      <td>1977-05-13</td>\n",
              "      <td>Senior Editor</td>\n",
              "      <td>NaN</td>\n",
              "      <td>Affluent Customer</td>\n",
              "      <td>N</td>\n",
              "      <td>NIL</td>\n",
              "      <td>Yes</td>\n",
              "      <td>8.0</td>\n",
              "      <td>False</td>\n",
              "    </tr>\n",
              "  </tbody>\n",
              "</table>\n",
              "</div>"
            ],
            "text/plain": [
              "   customer_id      first_name  last_name  ... owns_car  tenure new_customer\n",
              "0            1         Laraine  Medendorp  ...      Yes    11.0        False\n",
              "1            2             Eli    Bockman  ...      Yes    16.0        False\n",
              "2            3           Arlin     Dearle  ...      Yes    15.0        False\n",
              "3            4          Talbot        NaN  ...       No     7.0        False\n",
              "4            5  Sheila-kathryn     Calton  ...      Yes     8.0        False\n",
              "\n",
              "[5 rows x 14 columns]"
            ]
          },
          "metadata": {},
          "execution_count": 541
        }
      ]
    },
    {
      "cell_type": "code",
      "metadata": {
        "colab": {
          "base_uri": "https://localhost:8080/"
        },
        "id": "aDL7fn6NNbMC",
        "outputId": "668ffbbf-3abb-4fe3-ffc9-dc1bb470a156"
      },
      "source": [
        "df_ca = pd.read_excel(url, sheet_name = 4, header = 1)\n",
        "df_ca.columns"
      ],
      "execution_count": 542,
      "outputs": [
        {
          "output_type": "execute_result",
          "data": {
            "text/plain": [
              "Index(['customer_id', 'address', 'postcode', 'state', 'country',\n",
              "       'property_valuation'],\n",
              "      dtype='object')"
            ]
          },
          "metadata": {},
          "execution_count": 542
        }
      ]
    },
    {
      "cell_type": "markdown",
      "metadata": {
        "id": "iChSVWg9ID3p"
      },
      "source": [
        "TRANSACTIONS"
      ]
    },
    {
      "cell_type": "code",
      "metadata": {
        "colab": {
          "base_uri": "https://localhost:8080/"
        },
        "id": "76jTtaKAGXwU",
        "outputId": "f98a6bb7-160d-4272-a4f3-ce74d4283a85"
      },
      "source": [
        "df_tr.shape"
      ],
      "execution_count": 543,
      "outputs": [
        {
          "output_type": "execute_result",
          "data": {
            "text/plain": [
              "(20000, 13)"
            ]
          },
          "metadata": {},
          "execution_count": 543
        }
      ]
    },
    {
      "cell_type": "code",
      "metadata": {
        "id": "YEwzPxKNGbWQ"
      },
      "source": [
        "df_tr = df_tr.loc[df_tr[\"order_status\"] != \"Cancelled\"]"
      ],
      "execution_count": 544,
      "outputs": []
    },
    {
      "cell_type": "code",
      "metadata": {
        "colab": {
          "base_uri": "https://localhost:8080/"
        },
        "id": "4BQxlC6sG6uB",
        "outputId": "8affdcbe-71c3-4d78-e830-fe0cb3a00c9c"
      },
      "source": [
        "df_tr.shape"
      ],
      "execution_count": 545,
      "outputs": [
        {
          "output_type": "execute_result",
          "data": {
            "text/plain": [
              "(19821, 13)"
            ]
          },
          "metadata": {},
          "execution_count": 545
        }
      ]
    },
    {
      "cell_type": "code",
      "metadata": {
        "id": "aAIniw8vIINp"
      },
      "source": [
        "df_tr_pr = df_tr.groupby([\"customer_id\"], as_index = False).sum()\n",
        "df_tr_pr[\"profit_per_customer\"] = df_tr_pr[\"list_price\"] - df_tr_pr['standard_cost']\n",
        "# df_tr_pr.head()"
      ],
      "execution_count": 546,
      "outputs": []
    },
    {
      "cell_type": "code",
      "metadata": {
        "id": "bryb6Yw3JvUl",
        "colab": {
          "base_uri": "https://localhost:8080/",
          "height": 206
        },
        "outputId": "4c5de57c-30f5-4b30-bfee-d202bc152840"
      },
      "source": [
        "keep_cols1 = [\"customer_id\", \"profit_per_customer\"]\n",
        "df_tr_pr = df_tr_pr[keep_cols1]\n",
        "df_tr_pr.head()"
      ],
      "execution_count": 547,
      "outputs": [
        {
          "output_type": "execute_result",
          "data": {
            "text/html": [
              "<div>\n",
              "<style scoped>\n",
              "    .dataframe tbody tr th:only-of-type {\n",
              "        vertical-align: middle;\n",
              "    }\n",
              "\n",
              "    .dataframe tbody tr th {\n",
              "        vertical-align: top;\n",
              "    }\n",
              "\n",
              "    .dataframe thead th {\n",
              "        text-align: right;\n",
              "    }\n",
              "</style>\n",
              "<table border=\"1\" class=\"dataframe\">\n",
              "  <thead>\n",
              "    <tr style=\"text-align: right;\">\n",
              "      <th></th>\n",
              "      <th>customer_id</th>\n",
              "      <th>profit_per_customer</th>\n",
              "    </tr>\n",
              "  </thead>\n",
              "  <tbody>\n",
              "    <tr>\n",
              "      <th>0</th>\n",
              "      <td>1</td>\n",
              "      <td>3018.09</td>\n",
              "    </tr>\n",
              "    <tr>\n",
              "      <th>1</th>\n",
              "      <td>2</td>\n",
              "      <td>2226.26</td>\n",
              "    </tr>\n",
              "    <tr>\n",
              "      <th>2</th>\n",
              "      <td>3</td>\n",
              "      <td>3362.81</td>\n",
              "    </tr>\n",
              "    <tr>\n",
              "      <th>3</th>\n",
              "      <td>4</td>\n",
              "      <td>220.57</td>\n",
              "    </tr>\n",
              "    <tr>\n",
              "      <th>4</th>\n",
              "      <td>5</td>\n",
              "      <td>2394.94</td>\n",
              "    </tr>\n",
              "  </tbody>\n",
              "</table>\n",
              "</div>"
            ],
            "text/plain": [
              "   customer_id  profit_per_customer\n",
              "0            1              3018.09\n",
              "1            2              2226.26\n",
              "2            3              3362.81\n",
              "3            4               220.57\n",
              "4            5              2394.94"
            ]
          },
          "metadata": {},
          "execution_count": 547
        }
      ]
    },
    {
      "cell_type": "code",
      "metadata": {
        "id": "ng1NxxWTDo6W"
      },
      "source": [
        "df_tr_lp = df_tr.sort_values(\"transaction_date\").groupby(\"customer_id\").tail(1)"
      ],
      "execution_count": 548,
      "outputs": []
    },
    {
      "cell_type": "code",
      "metadata": {
        "id": "XpaGo1zrHXbh"
      },
      "source": [
        "benchmark_date = pd.to_datetime(\"2018-01-01\")\n",
        "df_tr_lp[\"days_to_latest_purchase\"] = benchmark_date - pd.to_datetime(df_tr_lp[\"transaction_date\"])\n",
        "keep_cols2 = [\"customer_id\", \"days_to_latest_purchase\"]\n",
        "df_tr_lp = df_tr_lp[keep_cols2]"
      ],
      "execution_count": 549,
      "outputs": []
    },
    {
      "cell_type": "code",
      "metadata": {
        "colab": {
          "base_uri": "https://localhost:8080/"
        },
        "id": "EzX0HvVWMRPm",
        "outputId": "6c8c24d9-5f92-4eb8-aad2-834778c6c823"
      },
      "source": [
        "df_tr_lp[\"days_to_latest_purchase\"].dtypes"
      ],
      "execution_count": 550,
      "outputs": [
        {
          "output_type": "execute_result",
          "data": {
            "text/plain": [
              "dtype('<m8[ns]')"
            ]
          },
          "metadata": {},
          "execution_count": 550
        }
      ]
    },
    {
      "cell_type": "code",
      "metadata": {
        "colab": {
          "base_uri": "https://localhost:8080/",
          "height": 206
        },
        "id": "vKw_Dw15MBfz",
        "outputId": "e4229d65-c4d4-4569-e6b2-880fba39355b"
      },
      "source": [
        "df_tr_lp[\"days_to_latest_purchase\"] = df_tr_lp[\"days_to_latest_purchase\"].astype(str).str.replace(\" days\", \"\")\n",
        "df_tr_lp[\"days_to_latest_purchase\"] = df_tr_lp[\"days_to_latest_purchase\"].astype(int)\n",
        "df_tr_lp.head()"
      ],
      "execution_count": 551,
      "outputs": [
        {
          "output_type": "execute_result",
          "data": {
            "text/html": [
              "<div>\n",
              "<style scoped>\n",
              "    .dataframe tbody tr th:only-of-type {\n",
              "        vertical-align: middle;\n",
              "    }\n",
              "\n",
              "    .dataframe tbody tr th {\n",
              "        vertical-align: top;\n",
              "    }\n",
              "\n",
              "    .dataframe thead th {\n",
              "        text-align: right;\n",
              "    }\n",
              "</style>\n",
              "<table border=\"1\" class=\"dataframe\">\n",
              "  <thead>\n",
              "    <tr style=\"text-align: right;\">\n",
              "      <th></th>\n",
              "      <th>customer_id</th>\n",
              "      <th>days_to_latest_purchase</th>\n",
              "    </tr>\n",
              "  </thead>\n",
              "  <tbody>\n",
              "    <tr>\n",
              "      <th>13976</th>\n",
              "      <td>2807</td>\n",
              "      <td>355</td>\n",
              "    </tr>\n",
              "    <tr>\n",
              "      <th>7262</th>\n",
              "      <td>1846</td>\n",
              "      <td>335</td>\n",
              "    </tr>\n",
              "    <tr>\n",
              "      <th>8764</th>\n",
              "      <td>1544</td>\n",
              "      <td>331</td>\n",
              "    </tr>\n",
              "    <tr>\n",
              "      <th>5378</th>\n",
              "      <td>822</td>\n",
              "      <td>330</td>\n",
              "    </tr>\n",
              "    <tr>\n",
              "      <th>13825</th>\n",
              "      <td>2876</td>\n",
              "      <td>327</td>\n",
              "    </tr>\n",
              "  </tbody>\n",
              "</table>\n",
              "</div>"
            ],
            "text/plain": [
              "       customer_id  days_to_latest_purchase\n",
              "13976         2807                      355\n",
              "7262          1846                      335\n",
              "8764          1544                      331\n",
              "5378           822                      330\n",
              "13825         2876                      327"
            ]
          },
          "metadata": {},
          "execution_count": 551
        }
      ]
    },
    {
      "cell_type": "code",
      "metadata": {
        "colab": {
          "base_uri": "https://localhost:8080/",
          "height": 206
        },
        "id": "sQL9xkboNVqX",
        "outputId": "e374c39d-9c21-452a-c58b-f636e9f0776f"
      },
      "source": [
        "df_tr_fr = df_tr.groupby(\"customer_id\", as_index=False).size()\n",
        "df_tr_fr.head()"
      ],
      "execution_count": 552,
      "outputs": [
        {
          "output_type": "execute_result",
          "data": {
            "text/html": [
              "<div>\n",
              "<style scoped>\n",
              "    .dataframe tbody tr th:only-of-type {\n",
              "        vertical-align: middle;\n",
              "    }\n",
              "\n",
              "    .dataframe tbody tr th {\n",
              "        vertical-align: top;\n",
              "    }\n",
              "\n",
              "    .dataframe thead th {\n",
              "        text-align: right;\n",
              "    }\n",
              "</style>\n",
              "<table border=\"1\" class=\"dataframe\">\n",
              "  <thead>\n",
              "    <tr style=\"text-align: right;\">\n",
              "      <th></th>\n",
              "      <th>customer_id</th>\n",
              "      <th>size</th>\n",
              "    </tr>\n",
              "  </thead>\n",
              "  <tbody>\n",
              "    <tr>\n",
              "      <th>0</th>\n",
              "      <td>1</td>\n",
              "      <td>11</td>\n",
              "    </tr>\n",
              "    <tr>\n",
              "      <th>1</th>\n",
              "      <td>2</td>\n",
              "      <td>3</td>\n",
              "    </tr>\n",
              "    <tr>\n",
              "      <th>2</th>\n",
              "      <td>3</td>\n",
              "      <td>8</td>\n",
              "    </tr>\n",
              "    <tr>\n",
              "      <th>3</th>\n",
              "      <td>4</td>\n",
              "      <td>2</td>\n",
              "    </tr>\n",
              "    <tr>\n",
              "      <th>4</th>\n",
              "      <td>5</td>\n",
              "      <td>6</td>\n",
              "    </tr>\n",
              "  </tbody>\n",
              "</table>\n",
              "</div>"
            ],
            "text/plain": [
              "   customer_id  size\n",
              "0            1    11\n",
              "1            2     3\n",
              "2            3     8\n",
              "3            4     2\n",
              "4            5     6"
            ]
          },
          "metadata": {},
          "execution_count": 552
        }
      ]
    },
    {
      "cell_type": "code",
      "metadata": {
        "colab": {
          "base_uri": "https://localhost:8080/",
          "height": 206
        },
        "id": "T20Q0iS9OkMI",
        "outputId": "f6c15723-edd3-4113-c6e4-f7a158a6c01f"
      },
      "source": [
        "df_rfm = pd.merge(df_tr_pr, df_tr_lp, how=\"inner\", on=[\"customer_id\"])\n",
        "df_rfm = pd.merge(df_rfm, df_tr_fr, how=\"inner\", on=[\"customer_id\"])\n",
        "df_rfm = df_rfm.rename(columns={\"size\":\"purchase_frequency\"})\n",
        "df_rfm.head()"
      ],
      "execution_count": 553,
      "outputs": [
        {
          "output_type": "execute_result",
          "data": {
            "text/html": [
              "<div>\n",
              "<style scoped>\n",
              "    .dataframe tbody tr th:only-of-type {\n",
              "        vertical-align: middle;\n",
              "    }\n",
              "\n",
              "    .dataframe tbody tr th {\n",
              "        vertical-align: top;\n",
              "    }\n",
              "\n",
              "    .dataframe thead th {\n",
              "        text-align: right;\n",
              "    }\n",
              "</style>\n",
              "<table border=\"1\" class=\"dataframe\">\n",
              "  <thead>\n",
              "    <tr style=\"text-align: right;\">\n",
              "      <th></th>\n",
              "      <th>customer_id</th>\n",
              "      <th>profit_per_customer</th>\n",
              "      <th>days_to_latest_purchase</th>\n",
              "      <th>purchase_frequency</th>\n",
              "    </tr>\n",
              "  </thead>\n",
              "  <tbody>\n",
              "    <tr>\n",
              "      <th>0</th>\n",
              "      <td>1</td>\n",
              "      <td>3018.09</td>\n",
              "      <td>9</td>\n",
              "      <td>11</td>\n",
              "    </tr>\n",
              "    <tr>\n",
              "      <th>1</th>\n",
              "      <td>2</td>\n",
              "      <td>2226.26</td>\n",
              "      <td>130</td>\n",
              "      <td>3</td>\n",
              "    </tr>\n",
              "    <tr>\n",
              "      <th>2</th>\n",
              "      <td>3</td>\n",
              "      <td>3362.81</td>\n",
              "      <td>104</td>\n",
              "      <td>8</td>\n",
              "    </tr>\n",
              "    <tr>\n",
              "      <th>3</th>\n",
              "      <td>4</td>\n",
              "      <td>220.57</td>\n",
              "      <td>197</td>\n",
              "      <td>2</td>\n",
              "    </tr>\n",
              "    <tr>\n",
              "      <th>4</th>\n",
              "      <td>5</td>\n",
              "      <td>2394.94</td>\n",
              "      <td>18</td>\n",
              "      <td>6</td>\n",
              "    </tr>\n",
              "  </tbody>\n",
              "</table>\n",
              "</div>"
            ],
            "text/plain": [
              "   customer_id  ...  purchase_frequency\n",
              "0            1  ...                  11\n",
              "1            2  ...                   3\n",
              "2            3  ...                   8\n",
              "3            4  ...                   2\n",
              "4            5  ...                   6\n",
              "\n",
              "[5 rows x 4 columns]"
            ]
          },
          "metadata": {},
          "execution_count": 553
        }
      ]
    },
    {
      "cell_type": "code",
      "metadata": {
        "colab": {
          "base_uri": "https://localhost:8080/"
        },
        "id": "AjMrUKOjfOcZ",
        "outputId": "63ab82cf-34cb-4199-f6b1-f098818aabeb"
      },
      "source": [
        "df_rfm.isnull().sum()"
      ],
      "execution_count": 554,
      "outputs": [
        {
          "output_type": "execute_result",
          "data": {
            "text/plain": [
              "customer_id                0\n",
              "profit_per_customer        0\n",
              "days_to_latest_purchase    0\n",
              "purchase_frequency         0\n",
              "dtype: int64"
            ]
          },
          "metadata": {},
          "execution_count": 554
        }
      ]
    },
    {
      "cell_type": "code",
      "metadata": {
        "id": "vXv4tqoSREhi"
      },
      "source": [
        "# mpg = sns.load_dataset(\"mpg\")\n",
        "\n",
        "# # Plot miles per gallon against horsepower with other semantics\n",
        "# sns.relplot(x=\"horsepower\", y=\"mpg\", hue=\"origin\", size=\"weight\",\n",
        "#             sizes=(40, 400), alpha=.5, palette=\"muted\",\n",
        "#             height=6, data=mpg)\n",
        "\n",
        "# df_plot1 = sns.load_dataset(\"df_rfm\")\n",
        "# sns.set_theme(style=\"white\")\n",
        "# sns.relplot(x=\"days_to_latest_purchase\", y=\"purchase_frequency\", \n",
        "#             hue=\"profit_per_customer\", sizes=(5, 200), alpha=.5, palette=\"muted\",\n",
        "#             height=6, data=df_rfm)"
      ],
      "execution_count": 555,
      "outputs": []
    },
    {
      "cell_type": "code",
      "metadata": {
        "colab": {
          "base_uri": "https://localhost:8080/",
          "height": 365
        },
        "id": "JoW5ZkRDNCwU",
        "outputId": "df23998f-3c0d-4029-f83b-4a3fdbdac011"
      },
      "source": [
        "df_cst = pd.merge(df_cd,df_ca, how=\"inner\", on=[\"customer_id\"])\n",
        "keep_cols3 = [\"customer_id\",\n",
        "              \"gender\", \n",
        "              'past_3_years_bike_related_purchases', \n",
        "              \"DOB\",\n",
        "              \"job_title\",\n",
        "              \"job_industry_category\",\n",
        "              \"wealth_segment\",\n",
        "              \"owns_car\",\n",
        "              \"tenure\",\n",
        "              \"postcode\",\n",
        "              \"state\",\n",
        "              \"property_valuation\",\n",
        "              \"deceased_indicator\",\n",
        "              \"new_customer\"]\n",
        "\n",
        "df_cst = df_cst[keep_cols3]\n",
        "\n",
        "df_cst.head()"
      ],
      "execution_count": 556,
      "outputs": [
        {
          "output_type": "execute_result",
          "data": {
            "text/html": [
              "<div>\n",
              "<style scoped>\n",
              "    .dataframe tbody tr th:only-of-type {\n",
              "        vertical-align: middle;\n",
              "    }\n",
              "\n",
              "    .dataframe tbody tr th {\n",
              "        vertical-align: top;\n",
              "    }\n",
              "\n",
              "    .dataframe thead th {\n",
              "        text-align: right;\n",
              "    }\n",
              "</style>\n",
              "<table border=\"1\" class=\"dataframe\">\n",
              "  <thead>\n",
              "    <tr style=\"text-align: right;\">\n",
              "      <th></th>\n",
              "      <th>customer_id</th>\n",
              "      <th>gender</th>\n",
              "      <th>past_3_years_bike_related_purchases</th>\n",
              "      <th>DOB</th>\n",
              "      <th>job_title</th>\n",
              "      <th>job_industry_category</th>\n",
              "      <th>wealth_segment</th>\n",
              "      <th>owns_car</th>\n",
              "      <th>tenure</th>\n",
              "      <th>postcode</th>\n",
              "      <th>state</th>\n",
              "      <th>property_valuation</th>\n",
              "      <th>deceased_indicator</th>\n",
              "      <th>new_customer</th>\n",
              "    </tr>\n",
              "  </thead>\n",
              "  <tbody>\n",
              "    <tr>\n",
              "      <th>0</th>\n",
              "      <td>1</td>\n",
              "      <td>F</td>\n",
              "      <td>93</td>\n",
              "      <td>1953-10-12</td>\n",
              "      <td>Executive Secretary</td>\n",
              "      <td>Health</td>\n",
              "      <td>Mass Customer</td>\n",
              "      <td>Yes</td>\n",
              "      <td>11.0</td>\n",
              "      <td>2016</td>\n",
              "      <td>New South Wales</td>\n",
              "      <td>10</td>\n",
              "      <td>N</td>\n",
              "      <td>False</td>\n",
              "    </tr>\n",
              "    <tr>\n",
              "      <th>1</th>\n",
              "      <td>2</td>\n",
              "      <td>Male</td>\n",
              "      <td>81</td>\n",
              "      <td>1980-12-16</td>\n",
              "      <td>Administrative Officer</td>\n",
              "      <td>Financial Services</td>\n",
              "      <td>Mass Customer</td>\n",
              "      <td>Yes</td>\n",
              "      <td>16.0</td>\n",
              "      <td>2153</td>\n",
              "      <td>New South Wales</td>\n",
              "      <td>10</td>\n",
              "      <td>N</td>\n",
              "      <td>False</td>\n",
              "    </tr>\n",
              "    <tr>\n",
              "      <th>2</th>\n",
              "      <td>4</td>\n",
              "      <td>Male</td>\n",
              "      <td>33</td>\n",
              "      <td>1961-10-03</td>\n",
              "      <td>NaN</td>\n",
              "      <td>IT</td>\n",
              "      <td>Mass Customer</td>\n",
              "      <td>No</td>\n",
              "      <td>7.0</td>\n",
              "      <td>4211</td>\n",
              "      <td>QLD</td>\n",
              "      <td>9</td>\n",
              "      <td>N</td>\n",
              "      <td>False</td>\n",
              "    </tr>\n",
              "    <tr>\n",
              "      <th>3</th>\n",
              "      <td>5</td>\n",
              "      <td>Female</td>\n",
              "      <td>56</td>\n",
              "      <td>1977-05-13</td>\n",
              "      <td>Senior Editor</td>\n",
              "      <td>NaN</td>\n",
              "      <td>Affluent Customer</td>\n",
              "      <td>Yes</td>\n",
              "      <td>8.0</td>\n",
              "      <td>2448</td>\n",
              "      <td>New South Wales</td>\n",
              "      <td>4</td>\n",
              "      <td>N</td>\n",
              "      <td>False</td>\n",
              "    </tr>\n",
              "    <tr>\n",
              "      <th>4</th>\n",
              "      <td>6</td>\n",
              "      <td>Male</td>\n",
              "      <td>35</td>\n",
              "      <td>1966-09-16</td>\n",
              "      <td>NaN</td>\n",
              "      <td>Retail</td>\n",
              "      <td>High Net Worth</td>\n",
              "      <td>Yes</td>\n",
              "      <td>13.0</td>\n",
              "      <td>3216</td>\n",
              "      <td>VIC</td>\n",
              "      <td>9</td>\n",
              "      <td>N</td>\n",
              "      <td>False</td>\n",
              "    </tr>\n",
              "  </tbody>\n",
              "</table>\n",
              "</div>"
            ],
            "text/plain": [
              "   customer_id  gender  ...  deceased_indicator new_customer\n",
              "0            1       F  ...                   N        False\n",
              "1            2    Male  ...                   N        False\n",
              "2            4    Male  ...                   N        False\n",
              "3            5  Female  ...                   N        False\n",
              "4            6    Male  ...                   N        False\n",
              "\n",
              "[5 rows x 14 columns]"
            ]
          },
          "metadata": {},
          "execution_count": 556
        }
      ]
    },
    {
      "cell_type": "code",
      "metadata": {
        "colab": {
          "base_uri": "https://localhost:8080/"
        },
        "id": "GmO8SrvGgBz2",
        "outputId": "67f78c09-f877-4ece-ce62-8cce8be52655"
      },
      "source": [
        "df_nc = df_nc[keep_cols3]\n",
        "list(df_nc.columns)"
      ],
      "execution_count": 557,
      "outputs": [
        {
          "output_type": "execute_result",
          "data": {
            "text/plain": [
              "['customer_id',\n",
              " 'gender',\n",
              " 'past_3_years_bike_related_purchases',\n",
              " 'DOB',\n",
              " 'job_title',\n",
              " 'job_industry_category',\n",
              " 'wealth_segment',\n",
              " 'owns_car',\n",
              " 'tenure',\n",
              " 'postcode',\n",
              " 'state',\n",
              " 'property_valuation',\n",
              " 'deceased_indicator',\n",
              " 'new_customer']"
            ]
          },
          "metadata": {},
          "execution_count": 557
        }
      ]
    },
    {
      "cell_type": "code",
      "metadata": {
        "colab": {
          "base_uri": "https://localhost:8080/",
          "height": 365
        },
        "id": "rNcCPWTQgKZb",
        "outputId": "0e18c95e-415e-4168-ec5f-2a95272ad68a"
      },
      "source": [
        "df_cst = pd.concat([df_cst, df_nc])\n",
        "df_cst.head()"
      ],
      "execution_count": 558,
      "outputs": [
        {
          "output_type": "execute_result",
          "data": {
            "text/html": [
              "<div>\n",
              "<style scoped>\n",
              "    .dataframe tbody tr th:only-of-type {\n",
              "        vertical-align: middle;\n",
              "    }\n",
              "\n",
              "    .dataframe tbody tr th {\n",
              "        vertical-align: top;\n",
              "    }\n",
              "\n",
              "    .dataframe thead th {\n",
              "        text-align: right;\n",
              "    }\n",
              "</style>\n",
              "<table border=\"1\" class=\"dataframe\">\n",
              "  <thead>\n",
              "    <tr style=\"text-align: right;\">\n",
              "      <th></th>\n",
              "      <th>customer_id</th>\n",
              "      <th>gender</th>\n",
              "      <th>past_3_years_bike_related_purchases</th>\n",
              "      <th>DOB</th>\n",
              "      <th>job_title</th>\n",
              "      <th>job_industry_category</th>\n",
              "      <th>wealth_segment</th>\n",
              "      <th>owns_car</th>\n",
              "      <th>tenure</th>\n",
              "      <th>postcode</th>\n",
              "      <th>state</th>\n",
              "      <th>property_valuation</th>\n",
              "      <th>deceased_indicator</th>\n",
              "      <th>new_customer</th>\n",
              "    </tr>\n",
              "  </thead>\n",
              "  <tbody>\n",
              "    <tr>\n",
              "      <th>0</th>\n",
              "      <td>1</td>\n",
              "      <td>F</td>\n",
              "      <td>93</td>\n",
              "      <td>1953-10-12</td>\n",
              "      <td>Executive Secretary</td>\n",
              "      <td>Health</td>\n",
              "      <td>Mass Customer</td>\n",
              "      <td>Yes</td>\n",
              "      <td>11.0</td>\n",
              "      <td>2016</td>\n",
              "      <td>New South Wales</td>\n",
              "      <td>10</td>\n",
              "      <td>N</td>\n",
              "      <td>False</td>\n",
              "    </tr>\n",
              "    <tr>\n",
              "      <th>1</th>\n",
              "      <td>2</td>\n",
              "      <td>Male</td>\n",
              "      <td>81</td>\n",
              "      <td>1980-12-16</td>\n",
              "      <td>Administrative Officer</td>\n",
              "      <td>Financial Services</td>\n",
              "      <td>Mass Customer</td>\n",
              "      <td>Yes</td>\n",
              "      <td>16.0</td>\n",
              "      <td>2153</td>\n",
              "      <td>New South Wales</td>\n",
              "      <td>10</td>\n",
              "      <td>N</td>\n",
              "      <td>False</td>\n",
              "    </tr>\n",
              "    <tr>\n",
              "      <th>2</th>\n",
              "      <td>4</td>\n",
              "      <td>Male</td>\n",
              "      <td>33</td>\n",
              "      <td>1961-10-03</td>\n",
              "      <td>NaN</td>\n",
              "      <td>IT</td>\n",
              "      <td>Mass Customer</td>\n",
              "      <td>No</td>\n",
              "      <td>7.0</td>\n",
              "      <td>4211</td>\n",
              "      <td>QLD</td>\n",
              "      <td>9</td>\n",
              "      <td>N</td>\n",
              "      <td>False</td>\n",
              "    </tr>\n",
              "    <tr>\n",
              "      <th>3</th>\n",
              "      <td>5</td>\n",
              "      <td>Female</td>\n",
              "      <td>56</td>\n",
              "      <td>1977-05-13</td>\n",
              "      <td>Senior Editor</td>\n",
              "      <td>NaN</td>\n",
              "      <td>Affluent Customer</td>\n",
              "      <td>Yes</td>\n",
              "      <td>8.0</td>\n",
              "      <td>2448</td>\n",
              "      <td>New South Wales</td>\n",
              "      <td>4</td>\n",
              "      <td>N</td>\n",
              "      <td>False</td>\n",
              "    </tr>\n",
              "    <tr>\n",
              "      <th>4</th>\n",
              "      <td>6</td>\n",
              "      <td>Male</td>\n",
              "      <td>35</td>\n",
              "      <td>1966-09-16</td>\n",
              "      <td>NaN</td>\n",
              "      <td>Retail</td>\n",
              "      <td>High Net Worth</td>\n",
              "      <td>Yes</td>\n",
              "      <td>13.0</td>\n",
              "      <td>3216</td>\n",
              "      <td>VIC</td>\n",
              "      <td>9</td>\n",
              "      <td>N</td>\n",
              "      <td>False</td>\n",
              "    </tr>\n",
              "  </tbody>\n",
              "</table>\n",
              "</div>"
            ],
            "text/plain": [
              "   customer_id  gender  ...  deceased_indicator new_customer\n",
              "0            1       F  ...                   N        False\n",
              "1            2    Male  ...                   N        False\n",
              "2            4    Male  ...                   N        False\n",
              "3            5  Female  ...                   N        False\n",
              "4            6    Male  ...                   N        False\n",
              "\n",
              "[5 rows x 14 columns]"
            ]
          },
          "metadata": {},
          "execution_count": 558
        }
      ]
    },
    {
      "cell_type": "code",
      "metadata": {
        "colab": {
          "base_uri": "https://localhost:8080/"
        },
        "id": "T3da_oMDhOTY",
        "outputId": "4b47546a-d855-4a82-b65d-574a7eb611e7"
      },
      "source": [
        "df_cst.shape"
      ],
      "execution_count": 559,
      "outputs": [
        {
          "output_type": "execute_result",
          "data": {
            "text/plain": [
              "(4996, 14)"
            ]
          },
          "metadata": {},
          "execution_count": 559
        }
      ]
    },
    {
      "cell_type": "code",
      "metadata": {
        "id": "YKZvW5vbibsd"
      },
      "source": [
        "df_cst[\"gender\"] = df_cst[\"gender\"].replace({\"F\":\"Female\", \"Femal\":\"Female\", \"M\":\"Male\", \"U\": None})\n",
        "df_cst[\"state\"] = df_cst[\"state\"].replace({\"New South Wales\":\"NSW\", \"Victoria\":\"VIC\"})\n",
        "df_cst = df_cst.replace({\"n/a\": None})\n",
        "df_cst = df_cst.dropna()"
      ],
      "execution_count": 560,
      "outputs": []
    },
    {
      "cell_type": "code",
      "metadata": {
        "colab": {
          "base_uri": "https://localhost:8080/"
        },
        "id": "pWZmG9Goi1pK",
        "outputId": "6e0839e1-4cb4-45c7-d355-3b50c026b68a"
      },
      "source": [
        "df_cst.isnull().sum()"
      ],
      "execution_count": 561,
      "outputs": [
        {
          "output_type": "execute_result",
          "data": {
            "text/plain": [
              "customer_id                            0\n",
              "gender                                 0\n",
              "past_3_years_bike_related_purchases    0\n",
              "DOB                                    0\n",
              "job_title                              0\n",
              "job_industry_category                  0\n",
              "wealth_segment                         0\n",
              "owns_car                               0\n",
              "tenure                                 0\n",
              "postcode                               0\n",
              "state                                  0\n",
              "property_valuation                     0\n",
              "deceased_indicator                     0\n",
              "new_customer                           0\n",
              "dtype: int64"
            ]
          },
          "metadata": {},
          "execution_count": 561
        }
      ]
    },
    {
      "cell_type": "code",
      "metadata": {
        "colab": {
          "base_uri": "https://localhost:8080/"
        },
        "id": "dYy_s302lpsv",
        "outputId": "5481bb95-ea84-4c1b-d92e-781fb52060fb"
      },
      "source": [
        "df_cst.shape"
      ],
      "execution_count": 562,
      "outputs": [
        {
          "output_type": "execute_result",
          "data": {
            "text/plain": [
              "(3597, 14)"
            ]
          },
          "metadata": {},
          "execution_count": 562
        }
      ]
    },
    {
      "cell_type": "code",
      "metadata": {
        "colab": {
          "base_uri": "https://localhost:8080/"
        },
        "id": "MPvCpEbvnN7r",
        "outputId": "b7ad5da5-311a-480d-8ed2-2cd305091cff"
      },
      "source": [
        "df_cst[\"gender\"].unique()"
      ],
      "execution_count": 563,
      "outputs": [
        {
          "output_type": "execute_result",
          "data": {
            "text/plain": [
              "array(['Female', 'Male'], dtype=object)"
            ]
          },
          "metadata": {},
          "execution_count": 563
        }
      ]
    },
    {
      "cell_type": "code",
      "metadata": {
        "colab": {
          "base_uri": "https://localhost:8080/"
        },
        "id": "sYmFVxzxq0N7",
        "outputId": "f3f89b92-dac2-4559-e211-1e52229c29b1"
      },
      "source": [
        "df_cst[\"wealth_segment\"].unique()"
      ],
      "execution_count": 564,
      "outputs": [
        {
          "output_type": "execute_result",
          "data": {
            "text/plain": [
              "array(['Mass Customer', 'Affluent Customer', 'High Net Worth'],\n",
              "      dtype=object)"
            ]
          },
          "metadata": {},
          "execution_count": 564
        }
      ]
    },
    {
      "cell_type": "code",
      "metadata": {
        "colab": {
          "base_uri": "https://localhost:8080/"
        },
        "id": "G1CbBVm7q9NH",
        "outputId": "5e791cd9-8be2-4bd7-d2fc-00bf38102803"
      },
      "source": [
        "df_cst[\"property_valuation\"].unique()"
      ],
      "execution_count": 565,
      "outputs": [
        {
          "output_type": "execute_result",
          "data": {
            "text/plain": [
              "array([10, 12,  4,  6,  8,  9,  7,  3,  5,  1,  2, 11])"
            ]
          },
          "metadata": {},
          "execution_count": 565
        }
      ]
    },
    {
      "cell_type": "code",
      "metadata": {
        "colab": {
          "base_uri": "https://localhost:8080/"
        },
        "id": "w8kMJfGbs1-b",
        "outputId": "812c80ae-1aa6-46bc-9be6-a719f9e59456"
      },
      "source": [
        "df_cst.dtypes"
      ],
      "execution_count": 566,
      "outputs": [
        {
          "output_type": "execute_result",
          "data": {
            "text/plain": [
              "customer_id                                     int64\n",
              "gender                                         object\n",
              "past_3_years_bike_related_purchases             int64\n",
              "DOB                                    datetime64[ns]\n",
              "job_title                                      object\n",
              "job_industry_category                          object\n",
              "wealth_segment                                 object\n",
              "owns_car                                       object\n",
              "tenure                                        float64\n",
              "postcode                                        int64\n",
              "state                                          object\n",
              "property_valuation                              int64\n",
              "deceased_indicator                             object\n",
              "new_customer                                     bool\n",
              "dtype: object"
            ]
          },
          "metadata": {},
          "execution_count": 566
        }
      ]
    },
    {
      "cell_type": "code",
      "metadata": {
        "id": "B6NCpxu7s_FL"
      },
      "source": [
        "df_cst = df_cst.loc[df_cst[\"deceased_indicator\"] == \"N\"]\n",
        "df_cst = df_cst.drop(columns=[\"deceased_indicator\"])"
      ],
      "execution_count": 567,
      "outputs": []
    },
    {
      "cell_type": "code",
      "metadata": {
        "colab": {
          "base_uri": "https://localhost:8080/"
        },
        "id": "7mHb8QQcuGUx",
        "outputId": "5d1333e7-26ec-4fbd-f5ab-5eaf1ab80c88"
      },
      "source": [
        "df_cst[\"age\"] = benchmark_date - pd.to_datetime(df_cst[\"DOB\"])\n",
        "df_cst[\"age\"].dtypes"
      ],
      "execution_count": 568,
      "outputs": [
        {
          "output_type": "execute_result",
          "data": {
            "text/plain": [
              "dtype('<m8[ns]')"
            ]
          },
          "metadata": {},
          "execution_count": 568
        }
      ]
    },
    {
      "cell_type": "code",
      "metadata": {
        "colab": {
          "base_uri": "https://localhost:8080/",
          "height": 347
        },
        "id": "bC3fj_aZvB9A",
        "outputId": "61645fd9-a8bd-412e-e5e1-6107261bac48"
      },
      "source": [
        "df_cst[\"age\"] = df_cst[\"age\"] / np.timedelta64(1,\"Y\")\n",
        "df_cst[\"age\"] = df_cst[\"age\"].astype(int)\n",
        "df_cst = df_cst.drop(columns=[\"DOB\"])\n",
        "df_cst.head()"
      ],
      "execution_count": 569,
      "outputs": [
        {
          "output_type": "execute_result",
          "data": {
            "text/html": [
              "<div>\n",
              "<style scoped>\n",
              "    .dataframe tbody tr th:only-of-type {\n",
              "        vertical-align: middle;\n",
              "    }\n",
              "\n",
              "    .dataframe tbody tr th {\n",
              "        vertical-align: top;\n",
              "    }\n",
              "\n",
              "    .dataframe thead th {\n",
              "        text-align: right;\n",
              "    }\n",
              "</style>\n",
              "<table border=\"1\" class=\"dataframe\">\n",
              "  <thead>\n",
              "    <tr style=\"text-align: right;\">\n",
              "      <th></th>\n",
              "      <th>customer_id</th>\n",
              "      <th>gender</th>\n",
              "      <th>past_3_years_bike_related_purchases</th>\n",
              "      <th>job_title</th>\n",
              "      <th>job_industry_category</th>\n",
              "      <th>wealth_segment</th>\n",
              "      <th>owns_car</th>\n",
              "      <th>tenure</th>\n",
              "      <th>postcode</th>\n",
              "      <th>state</th>\n",
              "      <th>property_valuation</th>\n",
              "      <th>new_customer</th>\n",
              "      <th>age</th>\n",
              "    </tr>\n",
              "  </thead>\n",
              "  <tbody>\n",
              "    <tr>\n",
              "      <th>0</th>\n",
              "      <td>1</td>\n",
              "      <td>Female</td>\n",
              "      <td>93</td>\n",
              "      <td>Executive Secretary</td>\n",
              "      <td>Health</td>\n",
              "      <td>Mass Customer</td>\n",
              "      <td>Yes</td>\n",
              "      <td>11.0</td>\n",
              "      <td>2016</td>\n",
              "      <td>NSW</td>\n",
              "      <td>10</td>\n",
              "      <td>False</td>\n",
              "      <td>64</td>\n",
              "    </tr>\n",
              "    <tr>\n",
              "      <th>1</th>\n",
              "      <td>2</td>\n",
              "      <td>Male</td>\n",
              "      <td>81</td>\n",
              "      <td>Administrative Officer</td>\n",
              "      <td>Financial Services</td>\n",
              "      <td>Mass Customer</td>\n",
              "      <td>Yes</td>\n",
              "      <td>16.0</td>\n",
              "      <td>2153</td>\n",
              "      <td>NSW</td>\n",
              "      <td>10</td>\n",
              "      <td>False</td>\n",
              "      <td>37</td>\n",
              "    </tr>\n",
              "    <tr>\n",
              "      <th>7</th>\n",
              "      <td>9</td>\n",
              "      <td>Female</td>\n",
              "      <td>97</td>\n",
              "      <td>Business Systems Development Analyst</td>\n",
              "      <td>Argiculture</td>\n",
              "      <td>Affluent Customer</td>\n",
              "      <td>Yes</td>\n",
              "      <td>8.0</td>\n",
              "      <td>2023</td>\n",
              "      <td>NSW</td>\n",
              "      <td>12</td>\n",
              "      <td>False</td>\n",
              "      <td>44</td>\n",
              "    </tr>\n",
              "    <tr>\n",
              "      <th>9</th>\n",
              "      <td>12</td>\n",
              "      <td>Male</td>\n",
              "      <td>58</td>\n",
              "      <td>Nuclear Power Engineer</td>\n",
              "      <td>Manufacturing</td>\n",
              "      <td>Mass Customer</td>\n",
              "      <td>No</td>\n",
              "      <td>8.0</td>\n",
              "      <td>4557</td>\n",
              "      <td>QLD</td>\n",
              "      <td>4</td>\n",
              "      <td>False</td>\n",
              "      <td>23</td>\n",
              "    </tr>\n",
              "    <tr>\n",
              "      <th>10</th>\n",
              "      <td>13</td>\n",
              "      <td>Male</td>\n",
              "      <td>38</td>\n",
              "      <td>Developer I</td>\n",
              "      <td>Financial Services</td>\n",
              "      <td>High Net Worth</td>\n",
              "      <td>Yes</td>\n",
              "      <td>8.0</td>\n",
              "      <td>3799</td>\n",
              "      <td>VIC</td>\n",
              "      <td>6</td>\n",
              "      <td>False</td>\n",
              "      <td>62</td>\n",
              "    </tr>\n",
              "  </tbody>\n",
              "</table>\n",
              "</div>"
            ],
            "text/plain": [
              "    customer_id  gender  ...  new_customer age\n",
              "0             1  Female  ...         False  64\n",
              "1             2    Male  ...         False  37\n",
              "7             9  Female  ...         False  44\n",
              "9            12    Male  ...         False  23\n",
              "10           13    Male  ...         False  62\n",
              "\n",
              "[5 rows x 13 columns]"
            ]
          },
          "metadata": {},
          "execution_count": 569
        }
      ]
    },
    {
      "cell_type": "code",
      "metadata": {
        "id": "_UV-XRNLvw_L"
      },
      "source": [
        ""
      ],
      "execution_count": 569,
      "outputs": []
    }
  ]
}