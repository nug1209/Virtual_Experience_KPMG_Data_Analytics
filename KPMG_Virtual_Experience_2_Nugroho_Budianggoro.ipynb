{
  "nbformat": 4,
  "nbformat_minor": 0,
  "metadata": {
    "colab": {
      "name": "KPMG_Virtual_Experience_2_Nugroho_Budianggoro.ipynb",
      "provenance": [],
      "collapsed_sections": [],
      "authorship_tag": "ABX9TyNRnLE/sAExh9+umsDqFbp1",
      "include_colab_link": true
    },
    "kernelspec": {
      "name": "python3",
      "display_name": "Python 3"
    },
    "language_info": {
      "name": "python"
    }
  },
  "cells": [
    {
      "cell_type": "markdown",
      "metadata": {
        "id": "view-in-github",
        "colab_type": "text"
      },
      "source": [
        "<a href=\"https://colab.research.google.com/github/nugi1209/Virtual_Experience_KPMG_Data_Analytics/blob/master/KPMG_Virtual_Experience_2_Nugroho_Budianggoro.ipynb\" target=\"_parent\"><img src=\"https://colab.research.google.com/assets/colab-badge.svg\" alt=\"Open In Colab\"/></a>"
      ]
    },
    {
      "cell_type": "code",
      "metadata": {
        "id": "POCk-CsVIr0_"
      },
      "source": [
        "import pandas as pd\n",
        "import seaborn as sns\n",
        "import matplotlib\n",
        "import numpy as np"
      ],
      "execution_count": 576,
      "outputs": []
    },
    {
      "cell_type": "code",
      "metadata": {
        "id": "D5pn1xRWJ4iE"
      },
      "source": [
        "url = \"https://github.com/nugi1209/Virtual_Experience_KPMG_Data_Analytics/blob/master/KPMG_VI_New_raw_data_update_final.xlsx?raw=true\"\n",
        "xls = pd.ExcelFile(url)"
      ],
      "execution_count": 577,
      "outputs": []
    },
    {
      "cell_type": "code",
      "metadata": {
        "id": "czcIFwRNKwES",
        "colab": {
          "base_uri": "https://localhost:8080/"
        },
        "outputId": "af89e89e-68cd-451f-89fd-298ed2dfac90"
      },
      "source": [
        "xls.sheet_names"
      ],
      "execution_count": 578,
      "outputs": [
        {
          "output_type": "execute_result",
          "data": {
            "text/plain": [
              "['Title Sheet',\n",
              " 'Transactions',\n",
              " 'NewCustomerList',\n",
              " 'CustomerDemographic',\n",
              " 'CustomerAddress']"
            ]
          },
          "metadata": {},
          "execution_count": 578
        }
      ]
    },
    {
      "cell_type": "code",
      "metadata": {
        "colab": {
          "base_uri": "https://localhost:8080/"
        },
        "id": "pT09GVOlQ8Xv",
        "outputId": "89ec2ecd-be24-4b4a-d8b1-74f2f0c993dd"
      },
      "source": [
        "df_tr = pd.read_excel(url, sheet_name = 1, header = 1)\n",
        "df_tr.columns"
      ],
      "execution_count": 579,
      "outputs": [
        {
          "output_type": "execute_result",
          "data": {
            "text/plain": [
              "Index(['transaction_id', 'product_id', 'customer_id', 'transaction_date',\n",
              "       'online_order', 'order_status', 'brand', 'product_line',\n",
              "       'product_class', 'product_size', 'list_price', 'standard_cost',\n",
              "       'product_first_sold_date'],\n",
              "      dtype='object')"
            ]
          },
          "metadata": {},
          "execution_count": 579
        }
      ]
    },
    {
      "cell_type": "code",
      "metadata": {
        "colab": {
          "base_uri": "https://localhost:8080/"
        },
        "id": "eQ6Qw1k2MiH3",
        "outputId": "b2cba1f1-af6e-450a-fa10-109c83726da6"
      },
      "source": [
        "df_nc = pd.read_excel(url, sheet_name = 2, header = 1)\n",
        "df_nc[\"new_customer\"] = True\n",
        "df_nc[\"customer_id\"] = 0\n",
        "df_nc.columns"
      ],
      "execution_count": 580,
      "outputs": [
        {
          "output_type": "execute_result",
          "data": {
            "text/plain": [
              "Index(['first_name', 'last_name', 'gender',\n",
              "       'past_3_years_bike_related_purchases', 'DOB', 'job_title',\n",
              "       'job_industry_category', 'wealth_segment', 'deceased_indicator',\n",
              "       'owns_car', 'tenure', 'address', 'postcode', 'state', 'country',\n",
              "       'property_valuation', 'Unnamed: 16', 'Unnamed: 17', 'Unnamed: 18',\n",
              "       'Unnamed: 19', 'Unnamed: 20', 'Rank', 'Value', 'new_customer',\n",
              "       'customer_id'],\n",
              "      dtype='object')"
            ]
          },
          "metadata": {},
          "execution_count": 580
        }
      ]
    },
    {
      "cell_type": "code",
      "metadata": {
        "colab": {
          "base_uri": "https://localhost:8080/",
          "height": 330
        },
        "id": "0nP_osQFNAG4",
        "outputId": "a54fbca3-c21e-4908-844d-dbfb49f4e4bc"
      },
      "source": [
        "df_cd = pd.read_excel(url, sheet_name = 3, header = 1)\n",
        "df_cd[\"new_customer\"] = False\n",
        "df_cd.columns\n",
        "df_cd.head()"
      ],
      "execution_count": 581,
      "outputs": [
        {
          "output_type": "execute_result",
          "data": {
            "text/html": [
              "<div>\n",
              "<style scoped>\n",
              "    .dataframe tbody tr th:only-of-type {\n",
              "        vertical-align: middle;\n",
              "    }\n",
              "\n",
              "    .dataframe tbody tr th {\n",
              "        vertical-align: top;\n",
              "    }\n",
              "\n",
              "    .dataframe thead th {\n",
              "        text-align: right;\n",
              "    }\n",
              "</style>\n",
              "<table border=\"1\" class=\"dataframe\">\n",
              "  <thead>\n",
              "    <tr style=\"text-align: right;\">\n",
              "      <th></th>\n",
              "      <th>customer_id</th>\n",
              "      <th>first_name</th>\n",
              "      <th>last_name</th>\n",
              "      <th>gender</th>\n",
              "      <th>past_3_years_bike_related_purchases</th>\n",
              "      <th>DOB</th>\n",
              "      <th>job_title</th>\n",
              "      <th>job_industry_category</th>\n",
              "      <th>wealth_segment</th>\n",
              "      <th>deceased_indicator</th>\n",
              "      <th>default</th>\n",
              "      <th>owns_car</th>\n",
              "      <th>tenure</th>\n",
              "      <th>new_customer</th>\n",
              "    </tr>\n",
              "  </thead>\n",
              "  <tbody>\n",
              "    <tr>\n",
              "      <th>0</th>\n",
              "      <td>1</td>\n",
              "      <td>Laraine</td>\n",
              "      <td>Medendorp</td>\n",
              "      <td>F</td>\n",
              "      <td>93</td>\n",
              "      <td>1953-10-12</td>\n",
              "      <td>Executive Secretary</td>\n",
              "      <td>Health</td>\n",
              "      <td>Mass Customer</td>\n",
              "      <td>N</td>\n",
              "      <td>\"'</td>\n",
              "      <td>Yes</td>\n",
              "      <td>11.0</td>\n",
              "      <td>False</td>\n",
              "    </tr>\n",
              "    <tr>\n",
              "      <th>1</th>\n",
              "      <td>2</td>\n",
              "      <td>Eli</td>\n",
              "      <td>Bockman</td>\n",
              "      <td>Male</td>\n",
              "      <td>81</td>\n",
              "      <td>1980-12-16</td>\n",
              "      <td>Administrative Officer</td>\n",
              "      <td>Financial Services</td>\n",
              "      <td>Mass Customer</td>\n",
              "      <td>N</td>\n",
              "      <td>&lt;script&gt;alert('hi')&lt;/script&gt;</td>\n",
              "      <td>Yes</td>\n",
              "      <td>16.0</td>\n",
              "      <td>False</td>\n",
              "    </tr>\n",
              "    <tr>\n",
              "      <th>2</th>\n",
              "      <td>3</td>\n",
              "      <td>Arlin</td>\n",
              "      <td>Dearle</td>\n",
              "      <td>Male</td>\n",
              "      <td>61</td>\n",
              "      <td>1954-01-20</td>\n",
              "      <td>Recruiting Manager</td>\n",
              "      <td>Property</td>\n",
              "      <td>Mass Customer</td>\n",
              "      <td>N</td>\n",
              "      <td>2018-02-01 00:00:00</td>\n",
              "      <td>Yes</td>\n",
              "      <td>15.0</td>\n",
              "      <td>False</td>\n",
              "    </tr>\n",
              "    <tr>\n",
              "      <th>3</th>\n",
              "      <td>4</td>\n",
              "      <td>Talbot</td>\n",
              "      <td>NaN</td>\n",
              "      <td>Male</td>\n",
              "      <td>33</td>\n",
              "      <td>1961-10-03</td>\n",
              "      <td>NaN</td>\n",
              "      <td>IT</td>\n",
              "      <td>Mass Customer</td>\n",
              "      <td>N</td>\n",
              "      <td>() { _; } &gt;_[$($())] { touch /tmp/blns.shellsh...</td>\n",
              "      <td>No</td>\n",
              "      <td>7.0</td>\n",
              "      <td>False</td>\n",
              "    </tr>\n",
              "    <tr>\n",
              "      <th>4</th>\n",
              "      <td>5</td>\n",
              "      <td>Sheila-kathryn</td>\n",
              "      <td>Calton</td>\n",
              "      <td>Female</td>\n",
              "      <td>56</td>\n",
              "      <td>1977-05-13</td>\n",
              "      <td>Senior Editor</td>\n",
              "      <td>NaN</td>\n",
              "      <td>Affluent Customer</td>\n",
              "      <td>N</td>\n",
              "      <td>NIL</td>\n",
              "      <td>Yes</td>\n",
              "      <td>8.0</td>\n",
              "      <td>False</td>\n",
              "    </tr>\n",
              "  </tbody>\n",
              "</table>\n",
              "</div>"
            ],
            "text/plain": [
              "   customer_id      first_name  last_name  ... owns_car  tenure new_customer\n",
              "0            1         Laraine  Medendorp  ...      Yes    11.0        False\n",
              "1            2             Eli    Bockman  ...      Yes    16.0        False\n",
              "2            3           Arlin     Dearle  ...      Yes    15.0        False\n",
              "3            4          Talbot        NaN  ...       No     7.0        False\n",
              "4            5  Sheila-kathryn     Calton  ...      Yes     8.0        False\n",
              "\n",
              "[5 rows x 14 columns]"
            ]
          },
          "metadata": {},
          "execution_count": 581
        }
      ]
    },
    {
      "cell_type": "code",
      "metadata": {
        "colab": {
          "base_uri": "https://localhost:8080/"
        },
        "id": "aDL7fn6NNbMC",
        "outputId": "b44443ae-7493-482e-bbfa-6aa1744dd2de"
      },
      "source": [
        "df_ca = pd.read_excel(url, sheet_name = 4, header = 1)\n",
        "df_ca.columns"
      ],
      "execution_count": 582,
      "outputs": [
        {
          "output_type": "execute_result",
          "data": {
            "text/plain": [
              "Index(['customer_id', 'address', 'postcode', 'state', 'country',\n",
              "       'property_valuation'],\n",
              "      dtype='object')"
            ]
          },
          "metadata": {},
          "execution_count": 582
        }
      ]
    },
    {
      "cell_type": "markdown",
      "metadata": {
        "id": "iChSVWg9ID3p"
      },
      "source": [
        "TRANSACTIONS"
      ]
    },
    {
      "cell_type": "code",
      "metadata": {
        "colab": {
          "base_uri": "https://localhost:8080/"
        },
        "id": "76jTtaKAGXwU",
        "outputId": "e8c10078-d42a-4a36-b810-dee011242af7"
      },
      "source": [
        "df_tr.shape"
      ],
      "execution_count": 583,
      "outputs": [
        {
          "output_type": "execute_result",
          "data": {
            "text/plain": [
              "(20000, 13)"
            ]
          },
          "metadata": {},
          "execution_count": 583
        }
      ]
    },
    {
      "cell_type": "code",
      "metadata": {
        "id": "YEwzPxKNGbWQ"
      },
      "source": [
        "df_tr = df_tr.loc[df_tr[\"order_status\"] != \"Cancelled\"]"
      ],
      "execution_count": 584,
      "outputs": []
    },
    {
      "cell_type": "code",
      "metadata": {
        "colab": {
          "base_uri": "https://localhost:8080/"
        },
        "id": "4BQxlC6sG6uB",
        "outputId": "0a7bcd92-b8d6-439c-a237-b1a786d44ab6"
      },
      "source": [
        "df_tr.shape"
      ],
      "execution_count": 585,
      "outputs": [
        {
          "output_type": "execute_result",
          "data": {
            "text/plain": [
              "(19821, 13)"
            ]
          },
          "metadata": {},
          "execution_count": 585
        }
      ]
    },
    {
      "cell_type": "code",
      "metadata": {
        "id": "aAIniw8vIINp"
      },
      "source": [
        "df_tr_pr = df_tr.groupby([\"customer_id\"], as_index = False).sum()\n",
        "df_tr_pr[\"profit_per_customer\"] = df_tr_pr[\"list_price\"] - df_tr_pr['standard_cost']\n",
        "# df_tr_pr.head()"
      ],
      "execution_count": 586,
      "outputs": []
    },
    {
      "cell_type": "code",
      "metadata": {
        "id": "bryb6Yw3JvUl",
        "colab": {
          "base_uri": "https://localhost:8080/",
          "height": 206
        },
        "outputId": "ae7609bb-c175-4560-c8d1-4e3aca6daa83"
      },
      "source": [
        "keep_cols1 = [\"customer_id\", \"profit_per_customer\"]\n",
        "df_tr_pr = df_tr_pr[keep_cols1]\n",
        "df_tr_pr.head()"
      ],
      "execution_count": 587,
      "outputs": [
        {
          "output_type": "execute_result",
          "data": {
            "text/html": [
              "<div>\n",
              "<style scoped>\n",
              "    .dataframe tbody tr th:only-of-type {\n",
              "        vertical-align: middle;\n",
              "    }\n",
              "\n",
              "    .dataframe tbody tr th {\n",
              "        vertical-align: top;\n",
              "    }\n",
              "\n",
              "    .dataframe thead th {\n",
              "        text-align: right;\n",
              "    }\n",
              "</style>\n",
              "<table border=\"1\" class=\"dataframe\">\n",
              "  <thead>\n",
              "    <tr style=\"text-align: right;\">\n",
              "      <th></th>\n",
              "      <th>customer_id</th>\n",
              "      <th>profit_per_customer</th>\n",
              "    </tr>\n",
              "  </thead>\n",
              "  <tbody>\n",
              "    <tr>\n",
              "      <th>0</th>\n",
              "      <td>1</td>\n",
              "      <td>3018.09</td>\n",
              "    </tr>\n",
              "    <tr>\n",
              "      <th>1</th>\n",
              "      <td>2</td>\n",
              "      <td>2226.26</td>\n",
              "    </tr>\n",
              "    <tr>\n",
              "      <th>2</th>\n",
              "      <td>3</td>\n",
              "      <td>3362.81</td>\n",
              "    </tr>\n",
              "    <tr>\n",
              "      <th>3</th>\n",
              "      <td>4</td>\n",
              "      <td>220.57</td>\n",
              "    </tr>\n",
              "    <tr>\n",
              "      <th>4</th>\n",
              "      <td>5</td>\n",
              "      <td>2394.94</td>\n",
              "    </tr>\n",
              "  </tbody>\n",
              "</table>\n",
              "</div>"
            ],
            "text/plain": [
              "   customer_id  profit_per_customer\n",
              "0            1              3018.09\n",
              "1            2              2226.26\n",
              "2            3              3362.81\n",
              "3            4               220.57\n",
              "4            5              2394.94"
            ]
          },
          "metadata": {},
          "execution_count": 587
        }
      ]
    },
    {
      "cell_type": "code",
      "metadata": {
        "id": "ng1NxxWTDo6W"
      },
      "source": [
        "df_tr_lp = df_tr.sort_values(\"transaction_date\").groupby(\"customer_id\").tail(1)"
      ],
      "execution_count": 588,
      "outputs": []
    },
    {
      "cell_type": "code",
      "metadata": {
        "id": "XpaGo1zrHXbh"
      },
      "source": [
        "benchmark_date = pd.to_datetime(\"2018-01-01\")\n",
        "df_tr_lp[\"days_to_latest_purchase\"] = benchmark_date - pd.to_datetime(df_tr_lp[\"transaction_date\"])\n",
        "keep_cols2 = [\"customer_id\", \"days_to_latest_purchase\"]\n",
        "df_tr_lp = df_tr_lp[keep_cols2]"
      ],
      "execution_count": 589,
      "outputs": []
    },
    {
      "cell_type": "code",
      "metadata": {
        "colab": {
          "base_uri": "https://localhost:8080/"
        },
        "id": "EzX0HvVWMRPm",
        "outputId": "983fc5c9-6350-40ec-8d3e-bf4da3deb52c"
      },
      "source": [
        "df_tr_lp[\"days_to_latest_purchase\"].dtypes"
      ],
      "execution_count": 590,
      "outputs": [
        {
          "output_type": "execute_result",
          "data": {
            "text/plain": [
              "dtype('<m8[ns]')"
            ]
          },
          "metadata": {},
          "execution_count": 590
        }
      ]
    },
    {
      "cell_type": "code",
      "metadata": {
        "colab": {
          "base_uri": "https://localhost:8080/",
          "height": 415
        },
        "id": "vKw_Dw15MBfz",
        "outputId": "bd3194aa-f5cb-4aae-c223-af0d91318deb"
      },
      "source": [
        "df_tr_lp[\"days_to_latest_purchase\"] = df_tr_lp[\"days_to_latest_purchase\"].astype(str).str.replace(\" days\", \"\")\n",
        "df_tr_lp[\"days_to_latest_purchase\"] = df_tr_lp[\"days_to_latest_purchase\"].astype(int)\n",
        "df_tr_lp.head()"
      ],
      "execution_count": 591,
      "outputs": [
        {
          "output_type": "stream",
          "name": "stderr",
          "text": [
            "/usr/local/lib/python3.7/dist-packages/ipykernel_launcher.py:1: SettingWithCopyWarning: \n",
            "A value is trying to be set on a copy of a slice from a DataFrame.\n",
            "Try using .loc[row_indexer,col_indexer] = value instead\n",
            "\n",
            "See the caveats in the documentation: https://pandas.pydata.org/pandas-docs/stable/user_guide/indexing.html#returning-a-view-versus-a-copy\n",
            "  \"\"\"Entry point for launching an IPython kernel.\n",
            "/usr/local/lib/python3.7/dist-packages/ipykernel_launcher.py:2: SettingWithCopyWarning: \n",
            "A value is trying to be set on a copy of a slice from a DataFrame.\n",
            "Try using .loc[row_indexer,col_indexer] = value instead\n",
            "\n",
            "See the caveats in the documentation: https://pandas.pydata.org/pandas-docs/stable/user_guide/indexing.html#returning-a-view-versus-a-copy\n",
            "  \n"
          ]
        },
        {
          "output_type": "execute_result",
          "data": {
            "text/html": [
              "<div>\n",
              "<style scoped>\n",
              "    .dataframe tbody tr th:only-of-type {\n",
              "        vertical-align: middle;\n",
              "    }\n",
              "\n",
              "    .dataframe tbody tr th {\n",
              "        vertical-align: top;\n",
              "    }\n",
              "\n",
              "    .dataframe thead th {\n",
              "        text-align: right;\n",
              "    }\n",
              "</style>\n",
              "<table border=\"1\" class=\"dataframe\">\n",
              "  <thead>\n",
              "    <tr style=\"text-align: right;\">\n",
              "      <th></th>\n",
              "      <th>customer_id</th>\n",
              "      <th>days_to_latest_purchase</th>\n",
              "    </tr>\n",
              "  </thead>\n",
              "  <tbody>\n",
              "    <tr>\n",
              "      <th>13976</th>\n",
              "      <td>2807</td>\n",
              "      <td>355</td>\n",
              "    </tr>\n",
              "    <tr>\n",
              "      <th>7262</th>\n",
              "      <td>1846</td>\n",
              "      <td>335</td>\n",
              "    </tr>\n",
              "    <tr>\n",
              "      <th>8764</th>\n",
              "      <td>1544</td>\n",
              "      <td>331</td>\n",
              "    </tr>\n",
              "    <tr>\n",
              "      <th>5378</th>\n",
              "      <td>822</td>\n",
              "      <td>330</td>\n",
              "    </tr>\n",
              "    <tr>\n",
              "      <th>13825</th>\n",
              "      <td>2876</td>\n",
              "      <td>327</td>\n",
              "    </tr>\n",
              "  </tbody>\n",
              "</table>\n",
              "</div>"
            ],
            "text/plain": [
              "       customer_id  days_to_latest_purchase\n",
              "13976         2807                      355\n",
              "7262          1846                      335\n",
              "8764          1544                      331\n",
              "5378           822                      330\n",
              "13825         2876                      327"
            ]
          },
          "metadata": {},
          "execution_count": 591
        }
      ]
    },
    {
      "cell_type": "code",
      "metadata": {
        "colab": {
          "base_uri": "https://localhost:8080/",
          "height": 206
        },
        "id": "sQL9xkboNVqX",
        "outputId": "7da3e44e-ccae-4bc0-d3f8-2abf345d77a4"
      },
      "source": [
        "df_tr_fr = df_tr.groupby(\"customer_id\", as_index=False).size()\n",
        "df_tr_fr.head()"
      ],
      "execution_count": 592,
      "outputs": [
        {
          "output_type": "execute_result",
          "data": {
            "text/html": [
              "<div>\n",
              "<style scoped>\n",
              "    .dataframe tbody tr th:only-of-type {\n",
              "        vertical-align: middle;\n",
              "    }\n",
              "\n",
              "    .dataframe tbody tr th {\n",
              "        vertical-align: top;\n",
              "    }\n",
              "\n",
              "    .dataframe thead th {\n",
              "        text-align: right;\n",
              "    }\n",
              "</style>\n",
              "<table border=\"1\" class=\"dataframe\">\n",
              "  <thead>\n",
              "    <tr style=\"text-align: right;\">\n",
              "      <th></th>\n",
              "      <th>customer_id</th>\n",
              "      <th>size</th>\n",
              "    </tr>\n",
              "  </thead>\n",
              "  <tbody>\n",
              "    <tr>\n",
              "      <th>0</th>\n",
              "      <td>1</td>\n",
              "      <td>11</td>\n",
              "    </tr>\n",
              "    <tr>\n",
              "      <th>1</th>\n",
              "      <td>2</td>\n",
              "      <td>3</td>\n",
              "    </tr>\n",
              "    <tr>\n",
              "      <th>2</th>\n",
              "      <td>3</td>\n",
              "      <td>8</td>\n",
              "    </tr>\n",
              "    <tr>\n",
              "      <th>3</th>\n",
              "      <td>4</td>\n",
              "      <td>2</td>\n",
              "    </tr>\n",
              "    <tr>\n",
              "      <th>4</th>\n",
              "      <td>5</td>\n",
              "      <td>6</td>\n",
              "    </tr>\n",
              "  </tbody>\n",
              "</table>\n",
              "</div>"
            ],
            "text/plain": [
              "   customer_id  size\n",
              "0            1    11\n",
              "1            2     3\n",
              "2            3     8\n",
              "3            4     2\n",
              "4            5     6"
            ]
          },
          "metadata": {},
          "execution_count": 592
        }
      ]
    },
    {
      "cell_type": "code",
      "metadata": {
        "colab": {
          "base_uri": "https://localhost:8080/",
          "height": 206
        },
        "id": "T20Q0iS9OkMI",
        "outputId": "6deb81cc-c98b-41ed-b615-fe45a3c5894e"
      },
      "source": [
        "df_rfm = pd.merge(df_tr_pr, df_tr_lp, how=\"inner\", on=[\"customer_id\"])\n",
        "df_rfm = pd.merge(df_rfm, df_tr_fr, how=\"inner\", on=[\"customer_id\"])\n",
        "df_rfm = df_rfm.rename(columns={\"size\":\"purchase_frequency\"})\n",
        "df_rfm.head()"
      ],
      "execution_count": 593,
      "outputs": [
        {
          "output_type": "execute_result",
          "data": {
            "text/html": [
              "<div>\n",
              "<style scoped>\n",
              "    .dataframe tbody tr th:only-of-type {\n",
              "        vertical-align: middle;\n",
              "    }\n",
              "\n",
              "    .dataframe tbody tr th {\n",
              "        vertical-align: top;\n",
              "    }\n",
              "\n",
              "    .dataframe thead th {\n",
              "        text-align: right;\n",
              "    }\n",
              "</style>\n",
              "<table border=\"1\" class=\"dataframe\">\n",
              "  <thead>\n",
              "    <tr style=\"text-align: right;\">\n",
              "      <th></th>\n",
              "      <th>customer_id</th>\n",
              "      <th>profit_per_customer</th>\n",
              "      <th>days_to_latest_purchase</th>\n",
              "      <th>purchase_frequency</th>\n",
              "    </tr>\n",
              "  </thead>\n",
              "  <tbody>\n",
              "    <tr>\n",
              "      <th>0</th>\n",
              "      <td>1</td>\n",
              "      <td>3018.09</td>\n",
              "      <td>9</td>\n",
              "      <td>11</td>\n",
              "    </tr>\n",
              "    <tr>\n",
              "      <th>1</th>\n",
              "      <td>2</td>\n",
              "      <td>2226.26</td>\n",
              "      <td>130</td>\n",
              "      <td>3</td>\n",
              "    </tr>\n",
              "    <tr>\n",
              "      <th>2</th>\n",
              "      <td>3</td>\n",
              "      <td>3362.81</td>\n",
              "      <td>104</td>\n",
              "      <td>8</td>\n",
              "    </tr>\n",
              "    <tr>\n",
              "      <th>3</th>\n",
              "      <td>4</td>\n",
              "      <td>220.57</td>\n",
              "      <td>197</td>\n",
              "      <td>2</td>\n",
              "    </tr>\n",
              "    <tr>\n",
              "      <th>4</th>\n",
              "      <td>5</td>\n",
              "      <td>2394.94</td>\n",
              "      <td>18</td>\n",
              "      <td>6</td>\n",
              "    </tr>\n",
              "  </tbody>\n",
              "</table>\n",
              "</div>"
            ],
            "text/plain": [
              "   customer_id  ...  purchase_frequency\n",
              "0            1  ...                  11\n",
              "1            2  ...                   3\n",
              "2            3  ...                   8\n",
              "3            4  ...                   2\n",
              "4            5  ...                   6\n",
              "\n",
              "[5 rows x 4 columns]"
            ]
          },
          "metadata": {},
          "execution_count": 593
        }
      ]
    },
    {
      "cell_type": "code",
      "metadata": {
        "colab": {
          "base_uri": "https://localhost:8080/"
        },
        "id": "AjMrUKOjfOcZ",
        "outputId": "c45b26a5-6c58-4f64-9850-136e86b2f13c"
      },
      "source": [
        "df_rfm.isnull().sum()"
      ],
      "execution_count": 594,
      "outputs": [
        {
          "output_type": "execute_result",
          "data": {
            "text/plain": [
              "customer_id                0\n",
              "profit_per_customer        0\n",
              "days_to_latest_purchase    0\n",
              "purchase_frequency         0\n",
              "dtype: int64"
            ]
          },
          "metadata": {},
          "execution_count": 594
        }
      ]
    },
    {
      "cell_type": "code",
      "metadata": {
        "id": "vXv4tqoSREhi"
      },
      "source": [
        "# mpg = sns.load_dataset(\"mpg\")\n",
        "\n",
        "# # Plot miles per gallon against horsepower with other semantics\n",
        "# sns.relplot(x=\"horsepower\", y=\"mpg\", hue=\"origin\", size=\"weight\",\n",
        "#             sizes=(40, 400), alpha=.5, palette=\"muted\",\n",
        "#             height=6, data=mpg)\n",
        "\n",
        "# df_plot1 = sns.load_dataset(\"df_rfm\")\n",
        "# sns.set_theme(style=\"white\")\n",
        "# sns.relplot(x=\"days_to_latest_purchase\", y=\"purchase_frequency\", \n",
        "#             hue=\"profit_per_customer\", sizes=(5, 200), alpha=.5, palette=\"muted\",\n",
        "#             height=6, data=df_rfm)"
      ],
      "execution_count": 595,
      "outputs": []
    },
    {
      "cell_type": "code",
      "metadata": {
        "colab": {
          "base_uri": "https://localhost:8080/",
          "height": 365
        },
        "id": "JoW5ZkRDNCwU",
        "outputId": "60c44d15-ec7d-4346-81bd-635c15b32a91"
      },
      "source": [
        "df_cst = pd.merge(df_cd,df_ca, how=\"inner\", on=[\"customer_id\"])\n",
        "keep_cols3 = [\"customer_id\",\n",
        "              \"gender\", \n",
        "              'past_3_years_bike_related_purchases', \n",
        "              \"DOB\",\n",
        "              \"job_title\",\n",
        "              \"job_industry_category\",\n",
        "              \"wealth_segment\",\n",
        "              \"owns_car\",\n",
        "              \"tenure\",\n",
        "              \"postcode\",\n",
        "              \"state\",\n",
        "              \"property_valuation\",\n",
        "              \"deceased_indicator\",\n",
        "              \"new_customer\"]\n",
        "\n",
        "df_cst = df_cst[keep_cols3]\n",
        "\n",
        "df_cst.head()"
      ],
      "execution_count": 596,
      "outputs": [
        {
          "output_type": "execute_result",
          "data": {
            "text/html": [
              "<div>\n",
              "<style scoped>\n",
              "    .dataframe tbody tr th:only-of-type {\n",
              "        vertical-align: middle;\n",
              "    }\n",
              "\n",
              "    .dataframe tbody tr th {\n",
              "        vertical-align: top;\n",
              "    }\n",
              "\n",
              "    .dataframe thead th {\n",
              "        text-align: right;\n",
              "    }\n",
              "</style>\n",
              "<table border=\"1\" class=\"dataframe\">\n",
              "  <thead>\n",
              "    <tr style=\"text-align: right;\">\n",
              "      <th></th>\n",
              "      <th>customer_id</th>\n",
              "      <th>gender</th>\n",
              "      <th>past_3_years_bike_related_purchases</th>\n",
              "      <th>DOB</th>\n",
              "      <th>job_title</th>\n",
              "      <th>job_industry_category</th>\n",
              "      <th>wealth_segment</th>\n",
              "      <th>owns_car</th>\n",
              "      <th>tenure</th>\n",
              "      <th>postcode</th>\n",
              "      <th>state</th>\n",
              "      <th>property_valuation</th>\n",
              "      <th>deceased_indicator</th>\n",
              "      <th>new_customer</th>\n",
              "    </tr>\n",
              "  </thead>\n",
              "  <tbody>\n",
              "    <tr>\n",
              "      <th>0</th>\n",
              "      <td>1</td>\n",
              "      <td>F</td>\n",
              "      <td>93</td>\n",
              "      <td>1953-10-12</td>\n",
              "      <td>Executive Secretary</td>\n",
              "      <td>Health</td>\n",
              "      <td>Mass Customer</td>\n",
              "      <td>Yes</td>\n",
              "      <td>11.0</td>\n",
              "      <td>2016</td>\n",
              "      <td>New South Wales</td>\n",
              "      <td>10</td>\n",
              "      <td>N</td>\n",
              "      <td>False</td>\n",
              "    </tr>\n",
              "    <tr>\n",
              "      <th>1</th>\n",
              "      <td>2</td>\n",
              "      <td>Male</td>\n",
              "      <td>81</td>\n",
              "      <td>1980-12-16</td>\n",
              "      <td>Administrative Officer</td>\n",
              "      <td>Financial Services</td>\n",
              "      <td>Mass Customer</td>\n",
              "      <td>Yes</td>\n",
              "      <td>16.0</td>\n",
              "      <td>2153</td>\n",
              "      <td>New South Wales</td>\n",
              "      <td>10</td>\n",
              "      <td>N</td>\n",
              "      <td>False</td>\n",
              "    </tr>\n",
              "    <tr>\n",
              "      <th>2</th>\n",
              "      <td>4</td>\n",
              "      <td>Male</td>\n",
              "      <td>33</td>\n",
              "      <td>1961-10-03</td>\n",
              "      <td>NaN</td>\n",
              "      <td>IT</td>\n",
              "      <td>Mass Customer</td>\n",
              "      <td>No</td>\n",
              "      <td>7.0</td>\n",
              "      <td>4211</td>\n",
              "      <td>QLD</td>\n",
              "      <td>9</td>\n",
              "      <td>N</td>\n",
              "      <td>False</td>\n",
              "    </tr>\n",
              "    <tr>\n",
              "      <th>3</th>\n",
              "      <td>5</td>\n",
              "      <td>Female</td>\n",
              "      <td>56</td>\n",
              "      <td>1977-05-13</td>\n",
              "      <td>Senior Editor</td>\n",
              "      <td>NaN</td>\n",
              "      <td>Affluent Customer</td>\n",
              "      <td>Yes</td>\n",
              "      <td>8.0</td>\n",
              "      <td>2448</td>\n",
              "      <td>New South Wales</td>\n",
              "      <td>4</td>\n",
              "      <td>N</td>\n",
              "      <td>False</td>\n",
              "    </tr>\n",
              "    <tr>\n",
              "      <th>4</th>\n",
              "      <td>6</td>\n",
              "      <td>Male</td>\n",
              "      <td>35</td>\n",
              "      <td>1966-09-16</td>\n",
              "      <td>NaN</td>\n",
              "      <td>Retail</td>\n",
              "      <td>High Net Worth</td>\n",
              "      <td>Yes</td>\n",
              "      <td>13.0</td>\n",
              "      <td>3216</td>\n",
              "      <td>VIC</td>\n",
              "      <td>9</td>\n",
              "      <td>N</td>\n",
              "      <td>False</td>\n",
              "    </tr>\n",
              "  </tbody>\n",
              "</table>\n",
              "</div>"
            ],
            "text/plain": [
              "   customer_id  gender  ...  deceased_indicator new_customer\n",
              "0            1       F  ...                   N        False\n",
              "1            2    Male  ...                   N        False\n",
              "2            4    Male  ...                   N        False\n",
              "3            5  Female  ...                   N        False\n",
              "4            6    Male  ...                   N        False\n",
              "\n",
              "[5 rows x 14 columns]"
            ]
          },
          "metadata": {},
          "execution_count": 596
        }
      ]
    },
    {
      "cell_type": "code",
      "metadata": {
        "colab": {
          "base_uri": "https://localhost:8080/"
        },
        "id": "GmO8SrvGgBz2",
        "outputId": "d7418bef-f3cc-45f1-aabc-d736094d8b8a"
      },
      "source": [
        "df_nc = df_nc[keep_cols3]\n",
        "list(df_nc.columns)"
      ],
      "execution_count": 597,
      "outputs": [
        {
          "output_type": "execute_result",
          "data": {
            "text/plain": [
              "['customer_id',\n",
              " 'gender',\n",
              " 'past_3_years_bike_related_purchases',\n",
              " 'DOB',\n",
              " 'job_title',\n",
              " 'job_industry_category',\n",
              " 'wealth_segment',\n",
              " 'owns_car',\n",
              " 'tenure',\n",
              " 'postcode',\n",
              " 'state',\n",
              " 'property_valuation',\n",
              " 'deceased_indicator',\n",
              " 'new_customer']"
            ]
          },
          "metadata": {},
          "execution_count": 597
        }
      ]
    },
    {
      "cell_type": "code",
      "metadata": {
        "colab": {
          "base_uri": "https://localhost:8080/",
          "height": 365
        },
        "id": "rNcCPWTQgKZb",
        "outputId": "54baceff-ec62-479e-9086-89e1d97be6d6"
      },
      "source": [
        "df_cst = pd.concat([df_cst, df_nc])\n",
        "df_cst.head()"
      ],
      "execution_count": 598,
      "outputs": [
        {
          "output_type": "execute_result",
          "data": {
            "text/html": [
              "<div>\n",
              "<style scoped>\n",
              "    .dataframe tbody tr th:only-of-type {\n",
              "        vertical-align: middle;\n",
              "    }\n",
              "\n",
              "    .dataframe tbody tr th {\n",
              "        vertical-align: top;\n",
              "    }\n",
              "\n",
              "    .dataframe thead th {\n",
              "        text-align: right;\n",
              "    }\n",
              "</style>\n",
              "<table border=\"1\" class=\"dataframe\">\n",
              "  <thead>\n",
              "    <tr style=\"text-align: right;\">\n",
              "      <th></th>\n",
              "      <th>customer_id</th>\n",
              "      <th>gender</th>\n",
              "      <th>past_3_years_bike_related_purchases</th>\n",
              "      <th>DOB</th>\n",
              "      <th>job_title</th>\n",
              "      <th>job_industry_category</th>\n",
              "      <th>wealth_segment</th>\n",
              "      <th>owns_car</th>\n",
              "      <th>tenure</th>\n",
              "      <th>postcode</th>\n",
              "      <th>state</th>\n",
              "      <th>property_valuation</th>\n",
              "      <th>deceased_indicator</th>\n",
              "      <th>new_customer</th>\n",
              "    </tr>\n",
              "  </thead>\n",
              "  <tbody>\n",
              "    <tr>\n",
              "      <th>0</th>\n",
              "      <td>1</td>\n",
              "      <td>F</td>\n",
              "      <td>93</td>\n",
              "      <td>1953-10-12</td>\n",
              "      <td>Executive Secretary</td>\n",
              "      <td>Health</td>\n",
              "      <td>Mass Customer</td>\n",
              "      <td>Yes</td>\n",
              "      <td>11.0</td>\n",
              "      <td>2016</td>\n",
              "      <td>New South Wales</td>\n",
              "      <td>10</td>\n",
              "      <td>N</td>\n",
              "      <td>False</td>\n",
              "    </tr>\n",
              "    <tr>\n",
              "      <th>1</th>\n",
              "      <td>2</td>\n",
              "      <td>Male</td>\n",
              "      <td>81</td>\n",
              "      <td>1980-12-16</td>\n",
              "      <td>Administrative Officer</td>\n",
              "      <td>Financial Services</td>\n",
              "      <td>Mass Customer</td>\n",
              "      <td>Yes</td>\n",
              "      <td>16.0</td>\n",
              "      <td>2153</td>\n",
              "      <td>New South Wales</td>\n",
              "      <td>10</td>\n",
              "      <td>N</td>\n",
              "      <td>False</td>\n",
              "    </tr>\n",
              "    <tr>\n",
              "      <th>2</th>\n",
              "      <td>4</td>\n",
              "      <td>Male</td>\n",
              "      <td>33</td>\n",
              "      <td>1961-10-03</td>\n",
              "      <td>NaN</td>\n",
              "      <td>IT</td>\n",
              "      <td>Mass Customer</td>\n",
              "      <td>No</td>\n",
              "      <td>7.0</td>\n",
              "      <td>4211</td>\n",
              "      <td>QLD</td>\n",
              "      <td>9</td>\n",
              "      <td>N</td>\n",
              "      <td>False</td>\n",
              "    </tr>\n",
              "    <tr>\n",
              "      <th>3</th>\n",
              "      <td>5</td>\n",
              "      <td>Female</td>\n",
              "      <td>56</td>\n",
              "      <td>1977-05-13</td>\n",
              "      <td>Senior Editor</td>\n",
              "      <td>NaN</td>\n",
              "      <td>Affluent Customer</td>\n",
              "      <td>Yes</td>\n",
              "      <td>8.0</td>\n",
              "      <td>2448</td>\n",
              "      <td>New South Wales</td>\n",
              "      <td>4</td>\n",
              "      <td>N</td>\n",
              "      <td>False</td>\n",
              "    </tr>\n",
              "    <tr>\n",
              "      <th>4</th>\n",
              "      <td>6</td>\n",
              "      <td>Male</td>\n",
              "      <td>35</td>\n",
              "      <td>1966-09-16</td>\n",
              "      <td>NaN</td>\n",
              "      <td>Retail</td>\n",
              "      <td>High Net Worth</td>\n",
              "      <td>Yes</td>\n",
              "      <td>13.0</td>\n",
              "      <td>3216</td>\n",
              "      <td>VIC</td>\n",
              "      <td>9</td>\n",
              "      <td>N</td>\n",
              "      <td>False</td>\n",
              "    </tr>\n",
              "  </tbody>\n",
              "</table>\n",
              "</div>"
            ],
            "text/plain": [
              "   customer_id  gender  ...  deceased_indicator new_customer\n",
              "0            1       F  ...                   N        False\n",
              "1            2    Male  ...                   N        False\n",
              "2            4    Male  ...                   N        False\n",
              "3            5  Female  ...                   N        False\n",
              "4            6    Male  ...                   N        False\n",
              "\n",
              "[5 rows x 14 columns]"
            ]
          },
          "metadata": {},
          "execution_count": 598
        }
      ]
    },
    {
      "cell_type": "code",
      "metadata": {
        "colab": {
          "base_uri": "https://localhost:8080/"
        },
        "id": "T3da_oMDhOTY",
        "outputId": "675992e7-61d3-4afb-979d-ece7e3d97eac"
      },
      "source": [
        "df_cst.shape"
      ],
      "execution_count": 599,
      "outputs": [
        {
          "output_type": "execute_result",
          "data": {
            "text/plain": [
              "(4996, 14)"
            ]
          },
          "metadata": {},
          "execution_count": 599
        }
      ]
    },
    {
      "cell_type": "code",
      "metadata": {
        "id": "YKZvW5vbibsd"
      },
      "source": [
        "df_cst[\"gender\"] = df_cst[\"gender\"].replace({\"F\":\"Female\", \"Femal\":\"Female\", \"M\":\"Male\", \"U\": None})\n",
        "df_cst[\"state\"] = df_cst[\"state\"].replace({\"New South Wales\":\"NSW\", \"Victoria\":\"VIC\"})\n",
        "df_cst = df_cst.replace({\"n/a\": None, \"Argiculture\":\"Agriculture\"})\n",
        "df_cst = df_cst.dropna()"
      ],
      "execution_count": 600,
      "outputs": []
    },
    {
      "cell_type": "code",
      "metadata": {
        "colab": {
          "base_uri": "https://localhost:8080/"
        },
        "id": "pWZmG9Goi1pK",
        "outputId": "22ccffee-1cb8-4fee-93d7-70e85b6bb37b"
      },
      "source": [
        "df_cst.isnull().sum()"
      ],
      "execution_count": 601,
      "outputs": [
        {
          "output_type": "execute_result",
          "data": {
            "text/plain": [
              "customer_id                            0\n",
              "gender                                 0\n",
              "past_3_years_bike_related_purchases    0\n",
              "DOB                                    0\n",
              "job_title                              0\n",
              "job_industry_category                  0\n",
              "wealth_segment                         0\n",
              "owns_car                               0\n",
              "tenure                                 0\n",
              "postcode                               0\n",
              "state                                  0\n",
              "property_valuation                     0\n",
              "deceased_indicator                     0\n",
              "new_customer                           0\n",
              "dtype: int64"
            ]
          },
          "metadata": {},
          "execution_count": 601
        }
      ]
    },
    {
      "cell_type": "code",
      "metadata": {
        "colab": {
          "base_uri": "https://localhost:8080/"
        },
        "id": "dYy_s302lpsv",
        "outputId": "c88d9147-f425-480e-808f-66cff78ef291"
      },
      "source": [
        "df_cst.shape"
      ],
      "execution_count": 602,
      "outputs": [
        {
          "output_type": "execute_result",
          "data": {
            "text/plain": [
              "(3597, 14)"
            ]
          },
          "metadata": {},
          "execution_count": 602
        }
      ]
    },
    {
      "cell_type": "code",
      "metadata": {
        "colab": {
          "base_uri": "https://localhost:8080/"
        },
        "id": "MPvCpEbvnN7r",
        "outputId": "f5c255e6-66d2-4886-a413-ab42a80d6a1d"
      },
      "source": [
        "df_cst[\"gender\"].unique()"
      ],
      "execution_count": 603,
      "outputs": [
        {
          "output_type": "execute_result",
          "data": {
            "text/plain": [
              "array(['Female', 'Male'], dtype=object)"
            ]
          },
          "metadata": {},
          "execution_count": 603
        }
      ]
    },
    {
      "cell_type": "code",
      "metadata": {
        "colab": {
          "base_uri": "https://localhost:8080/"
        },
        "id": "sYmFVxzxq0N7",
        "outputId": "936c914f-1c8e-45b6-c1fb-9759bdcc51f6"
      },
      "source": [
        "df_cst[\"wealth_segment\"].unique()"
      ],
      "execution_count": 604,
      "outputs": [
        {
          "output_type": "execute_result",
          "data": {
            "text/plain": [
              "array(['Mass Customer', 'Affluent Customer', 'High Net Worth'],\n",
              "      dtype=object)"
            ]
          },
          "metadata": {},
          "execution_count": 604
        }
      ]
    },
    {
      "cell_type": "code",
      "metadata": {
        "colab": {
          "base_uri": "https://localhost:8080/"
        },
        "id": "G1CbBVm7q9NH",
        "outputId": "5fb160a5-b2f9-4940-aa95-6af86ae63dbc"
      },
      "source": [
        "df_cst[\"property_valuation\"].unique()"
      ],
      "execution_count": 605,
      "outputs": [
        {
          "output_type": "execute_result",
          "data": {
            "text/plain": [
              "array([10, 12,  4,  6,  8,  9,  7,  3,  5,  1,  2, 11])"
            ]
          },
          "metadata": {},
          "execution_count": 605
        }
      ]
    },
    {
      "cell_type": "code",
      "metadata": {
        "colab": {
          "base_uri": "https://localhost:8080/"
        },
        "id": "w8kMJfGbs1-b",
        "outputId": "e552b999-9db3-4cbf-8c77-83db37055d25"
      },
      "source": [
        "df_cst.dtypes"
      ],
      "execution_count": 606,
      "outputs": [
        {
          "output_type": "execute_result",
          "data": {
            "text/plain": [
              "customer_id                                     int64\n",
              "gender                                         object\n",
              "past_3_years_bike_related_purchases             int64\n",
              "DOB                                    datetime64[ns]\n",
              "job_title                                      object\n",
              "job_industry_category                          object\n",
              "wealth_segment                                 object\n",
              "owns_car                                       object\n",
              "tenure                                        float64\n",
              "postcode                                        int64\n",
              "state                                          object\n",
              "property_valuation                              int64\n",
              "deceased_indicator                             object\n",
              "new_customer                                     bool\n",
              "dtype: object"
            ]
          },
          "metadata": {},
          "execution_count": 606
        }
      ]
    },
    {
      "cell_type": "code",
      "metadata": {
        "id": "B6NCpxu7s_FL"
      },
      "source": [
        "df_cst = df_cst.loc[df_cst[\"deceased_indicator\"] == \"N\"]\n",
        "df_cst = df_cst.drop(columns=[\"deceased_indicator\"])"
      ],
      "execution_count": 607,
      "outputs": []
    },
    {
      "cell_type": "code",
      "metadata": {
        "colab": {
          "base_uri": "https://localhost:8080/"
        },
        "id": "7mHb8QQcuGUx",
        "outputId": "4975a3a5-cdef-4ae6-c5ad-eae578de0d1b"
      },
      "source": [
        "df_cst[\"age\"] = benchmark_date - pd.to_datetime(df_cst[\"DOB\"])\n",
        "df_cst[\"age\"].dtypes"
      ],
      "execution_count": 608,
      "outputs": [
        {
          "output_type": "execute_result",
          "data": {
            "text/plain": [
              "dtype('<m8[ns]')"
            ]
          },
          "metadata": {},
          "execution_count": 608
        }
      ]
    },
    {
      "cell_type": "code",
      "metadata": {
        "colab": {
          "base_uri": "https://localhost:8080/",
          "height": 347
        },
        "id": "bC3fj_aZvB9A",
        "outputId": "5be77f34-98c4-4f96-cfde-c7f18cb1fc92"
      },
      "source": [
        "df_cst[\"age\"] = df_cst[\"age\"] / np.timedelta64(1,\"Y\")\n",
        "df_cst[\"age\"] = df_cst[\"age\"].astype(int)\n",
        "df_cst = df_cst.drop(columns=[\"DOB\"])\n",
        "df_cst.head()"
      ],
      "execution_count": 609,
      "outputs": [
        {
          "output_type": "execute_result",
          "data": {
            "text/html": [
              "<div>\n",
              "<style scoped>\n",
              "    .dataframe tbody tr th:only-of-type {\n",
              "        vertical-align: middle;\n",
              "    }\n",
              "\n",
              "    .dataframe tbody tr th {\n",
              "        vertical-align: top;\n",
              "    }\n",
              "\n",
              "    .dataframe thead th {\n",
              "        text-align: right;\n",
              "    }\n",
              "</style>\n",
              "<table border=\"1\" class=\"dataframe\">\n",
              "  <thead>\n",
              "    <tr style=\"text-align: right;\">\n",
              "      <th></th>\n",
              "      <th>customer_id</th>\n",
              "      <th>gender</th>\n",
              "      <th>past_3_years_bike_related_purchases</th>\n",
              "      <th>job_title</th>\n",
              "      <th>job_industry_category</th>\n",
              "      <th>wealth_segment</th>\n",
              "      <th>owns_car</th>\n",
              "      <th>tenure</th>\n",
              "      <th>postcode</th>\n",
              "      <th>state</th>\n",
              "      <th>property_valuation</th>\n",
              "      <th>new_customer</th>\n",
              "      <th>age</th>\n",
              "    </tr>\n",
              "  </thead>\n",
              "  <tbody>\n",
              "    <tr>\n",
              "      <th>0</th>\n",
              "      <td>1</td>\n",
              "      <td>Female</td>\n",
              "      <td>93</td>\n",
              "      <td>Executive Secretary</td>\n",
              "      <td>Health</td>\n",
              "      <td>Mass Customer</td>\n",
              "      <td>Yes</td>\n",
              "      <td>11.0</td>\n",
              "      <td>2016</td>\n",
              "      <td>NSW</td>\n",
              "      <td>10</td>\n",
              "      <td>False</td>\n",
              "      <td>64</td>\n",
              "    </tr>\n",
              "    <tr>\n",
              "      <th>1</th>\n",
              "      <td>2</td>\n",
              "      <td>Male</td>\n",
              "      <td>81</td>\n",
              "      <td>Administrative Officer</td>\n",
              "      <td>Financial Services</td>\n",
              "      <td>Mass Customer</td>\n",
              "      <td>Yes</td>\n",
              "      <td>16.0</td>\n",
              "      <td>2153</td>\n",
              "      <td>NSW</td>\n",
              "      <td>10</td>\n",
              "      <td>False</td>\n",
              "      <td>37</td>\n",
              "    </tr>\n",
              "    <tr>\n",
              "      <th>7</th>\n",
              "      <td>9</td>\n",
              "      <td>Female</td>\n",
              "      <td>97</td>\n",
              "      <td>Business Systems Development Analyst</td>\n",
              "      <td>Argiculture</td>\n",
              "      <td>Affluent Customer</td>\n",
              "      <td>Yes</td>\n",
              "      <td>8.0</td>\n",
              "      <td>2023</td>\n",
              "      <td>NSW</td>\n",
              "      <td>12</td>\n",
              "      <td>False</td>\n",
              "      <td>44</td>\n",
              "    </tr>\n",
              "    <tr>\n",
              "      <th>9</th>\n",
              "      <td>12</td>\n",
              "      <td>Male</td>\n",
              "      <td>58</td>\n",
              "      <td>Nuclear Power Engineer</td>\n",
              "      <td>Manufacturing</td>\n",
              "      <td>Mass Customer</td>\n",
              "      <td>No</td>\n",
              "      <td>8.0</td>\n",
              "      <td>4557</td>\n",
              "      <td>QLD</td>\n",
              "      <td>4</td>\n",
              "      <td>False</td>\n",
              "      <td>23</td>\n",
              "    </tr>\n",
              "    <tr>\n",
              "      <th>10</th>\n",
              "      <td>13</td>\n",
              "      <td>Male</td>\n",
              "      <td>38</td>\n",
              "      <td>Developer I</td>\n",
              "      <td>Financial Services</td>\n",
              "      <td>High Net Worth</td>\n",
              "      <td>Yes</td>\n",
              "      <td>8.0</td>\n",
              "      <td>3799</td>\n",
              "      <td>VIC</td>\n",
              "      <td>6</td>\n",
              "      <td>False</td>\n",
              "      <td>62</td>\n",
              "    </tr>\n",
              "  </tbody>\n",
              "</table>\n",
              "</div>"
            ],
            "text/plain": [
              "    customer_id  gender  ...  new_customer age\n",
              "0             1  Female  ...         False  64\n",
              "1             2    Male  ...         False  37\n",
              "7             9  Female  ...         False  44\n",
              "9            12    Male  ...         False  23\n",
              "10           13    Male  ...         False  62\n",
              "\n",
              "[5 rows x 13 columns]"
            ]
          },
          "metadata": {},
          "execution_count": 609
        }
      ]
    },
    {
      "cell_type": "code",
      "metadata": {
        "colab": {
          "base_uri": "https://localhost:8080/"
        },
        "id": "_UV-XRNLvw_L",
        "outputId": "85c29204-3db2-4ac8-b4f5-df9b7984329f"
      },
      "source": [
        "len(df_cst[(df_cst[\"new_customer\"]==True)])"
      ],
      "execution_count": 610,
      "outputs": [
        {
          "output_type": "execute_result",
          "data": {
            "text/plain": [
              "735"
            ]
          },
          "metadata": {},
          "execution_count": 610
        }
      ]
    },
    {
      "cell_type": "code",
      "metadata": {
        "colab": {
          "base_uri": "https://localhost:8080/"
        },
        "id": "_pprwuFmx8A7",
        "outputId": "1f0c9662-69a5-4a19-d762-d3cfd2b61f94"
      },
      "source": [
        "len(df_cst[df_cst[\"new_customer\"]==False])"
      ],
      "execution_count": 611,
      "outputs": [
        {
          "output_type": "execute_result",
          "data": {
            "text/plain": [
              "2860"
            ]
          },
          "metadata": {},
          "execution_count": 611
        }
      ]
    },
    {
      "cell_type": "code",
      "metadata": {
        "colab": {
          "base_uri": "https://localhost:8080/"
        },
        "id": "_1e3JyemBi7F",
        "outputId": "8112d293-7688-4a7c-a47d-950101c134bd"
      },
      "source": [
        "df_cst[\"job_title\"].unique()"
      ],
      "execution_count": 612,
      "outputs": [
        {
          "output_type": "execute_result",
          "data": {
            "text/plain": [
              "array(['Executive Secretary', 'Administrative Officer',\n",
              "       'Business Systems Development Analyst', 'Nuclear Power Engineer',\n",
              "       'Developer I', 'Account Executive', 'Junior Executive',\n",
              "       'Geological Engineer', 'Project Manager', 'Safety Technician I',\n",
              "       'Research Assistant I', 'Accounting Assistant III', 'Editor',\n",
              "       'Research Nurse', 'Senior Quality Engineer',\n",
              "       'Safety Technician III', 'Staff Accountant III', 'Legal Assistant',\n",
              "       'Information Systems Manager', 'Social Worker',\n",
              "       'Senior Cost Accountant', 'Assistant Media Planner',\n",
              "       'Payment Adjustment Coordinator', 'Food Chemist', 'Accountant III',\n",
              "       'Director of Sales', 'Senior Financial Analyst',\n",
              "       'Registered Nurse', 'Computer Systems Analyst II',\n",
              "       'Software Test Engineer II', 'Sales Associate', 'Paralegal',\n",
              "       'VP Sales', 'Office Assistant III', 'Help Desk Operator',\n",
              "       'Web Developer II', 'Research Associate', 'VP Product Management',\n",
              "       'Statistician II', 'Automation Specialist IV', 'Data Coordiator',\n",
              "       'Software Test Engineer III', 'Internal Auditor',\n",
              "       'Occupational Therapist', 'Speech Pathologist',\n",
              "       'Quality Control Specialist', 'Recruiting Manager',\n",
              "       'Civil Engineer', 'Software Engineer III',\n",
              "       'Community Outreach Specialist', 'Safety Technician IV',\n",
              "       'VP Accounting', 'General Manager', 'Nurse Practicioner',\n",
              "       'Product Engineer', 'Automation Specialist II',\n",
              "       'Marketing Manager', 'Teacher', 'Assistant Professor',\n",
              "       'Graphic Designer', 'Analyst Programmer',\n",
              "       'Administrative Assistant II', 'Compensation Analyst',\n",
              "       'Systems Administrator III', 'Financial Advisor',\n",
              "       'Chemical Engineer', 'Web Designer I', 'Senior Developer',\n",
              "       'Office Assistant II', 'Recruiter', 'Operator',\n",
              "       'Programmer Analyst III', 'Quality Engineer',\n",
              "       'Analog Circuit Design manager', 'Cost Accountant', 'Librarian',\n",
              "       'Senior Editor', 'Structural Analysis Engineer', 'Pharmacist',\n",
              "       'Assistant Manager', 'Accountant I', 'Professor',\n",
              "       'Environmental Tech', 'Web Designer III', 'Geologist III',\n",
              "       'Software Test Engineer I', 'Safety Technician II',\n",
              "       'Web Developer III', 'Programmer Analyst II',\n",
              "       'Physical Therapy Assistant', 'Design Engineer', 'VP Marketing',\n",
              "       'Desktop Support Technician', 'Actuary',\n",
              "       'Database Administrator III', 'Electrical Engineer',\n",
              "       'Tax Accountant', 'Clinical Specialist',\n",
              "       'Database Administrator IV', 'Systems Administrator II',\n",
              "       'Chief Design Engineer', 'Account Coordinator',\n",
              "       'Administrative Assistant III', 'Nurse', 'Associate Professor',\n",
              "       'Technical Writer', 'Staff Accountant II', 'Dental Hygienist',\n",
              "       'Sales Representative', 'VP Quality Control', 'Financial Analyst',\n",
              "       'Accounting Assistant II', 'Engineer I',\n",
              "       'Budget/Accounting Analyst I', 'Developer IV',\n",
              "       'Database Administrator I', 'Marketing Assistant',\n",
              "       'Environmental Specialist', 'Programmer III',\n",
              "       'Computer Systems Analyst I', 'Account Representative IV',\n",
              "       'Statistician IV', 'Human Resources Manager',\n",
              "       'GIS Technical Architect', 'Programmer IV',\n",
              "       'Senior Sales Associate', 'Computer Systems Analyst IV',\n",
              "       'Database Administrator II', 'Staff Scientist',\n",
              "       'Software Engineer IV', 'Programmer II', 'Structural Engineer',\n",
              "       'Engineer III', 'Geologist I', 'Biostatistician IV',\n",
              "       'Help Desk Technician', 'Automation Specialist I', 'Developer III',\n",
              "       'Human Resources Assistant I', 'Geologist IV', 'Media Manager II',\n",
              "       'Statistician III', 'Engineer II', 'Budget/Accounting Analyst III',\n",
              "       'Health Coach II', 'Developer II', 'Systems Administrator I',\n",
              "       'Software Engineer II', 'Accounting Assistant I',\n",
              "       'Research Assistant II', 'Health Coach I', 'Accountant II',\n",
              "       'Automation Specialist III', 'Administrative Assistant I',\n",
              "       'Health Coach IV', 'Media Manager III', 'Media Manager IV',\n",
              "       'Budget/Accounting Analyst II', 'Web Developer IV',\n",
              "       'Software Consultant', 'Accounting Assistant IV',\n",
              "       'Biostatistician III', 'Software Test Engineer IV',\n",
              "       'Account Representative III', 'Research Assistant IV',\n",
              "       'Media Manager I', 'Account Representative I', 'Web Designer IV',\n",
              "       'Accountant IV', 'Biostatistician I',\n",
              "       'Budget/Accounting Analyst IV', 'Human Resources Assistant IV',\n",
              "       'Programmer I', 'Office Assistant I', 'Web Developer I',\n",
              "       'Human Resources Assistant II', 'Mechanical Systems Engineer',\n",
              "       'Statistician I', 'Engineer IV', 'Administrative Assistant IV',\n",
              "       'Health Coach III', 'Office Assistant IV', 'Software Engineer I',\n",
              "       'Human Resources Assistant III', 'Staff Accountant I',\n",
              "       'Computer Systems Analyst III', 'Geologist II', 'Web Designer II',\n",
              "       'Biostatistician II', 'Staff Accountant IV',\n",
              "       'Account Representative II', 'Programmer Analyst IV',\n",
              "       'Programmer Analyst I', 'Systems Administrator IV',\n",
              "       'Research Assistant III'], dtype=object)"
            ]
          },
          "metadata": {},
          "execution_count": 612
        }
      ]
    },
    {
      "cell_type": "code",
      "metadata": {
        "colab": {
          "base_uri": "https://localhost:8080/"
        },
        "id": "Sfa0SXV0Bmp1",
        "outputId": "82fd961e-929b-47d4-b432-4c10bad9b40b"
      },
      "source": [
        "df_cst[\"job_industry_category\"].unique()"
      ],
      "execution_count": 613,
      "outputs": [
        {
          "output_type": "execute_result",
          "data": {
            "text/plain": [
              "array(['Health', 'Financial Services', 'Argiculture', 'Manufacturing',\n",
              "       'Telecommunications', 'Entertainment', 'Retail', 'Property', 'IT'],\n",
              "      dtype=object)"
            ]
          },
          "metadata": {},
          "execution_count": 613
        }
      ]
    }
  ]
}